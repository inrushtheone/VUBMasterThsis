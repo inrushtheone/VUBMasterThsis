{
 "cells": [
  {
   "cell_type": "markdown",
   "metadata": {},
   "source": [
    "# Introduction\n",
    "\n",
    "In this project, we are working with a large dataset that is approximately 18GB in size. The dataset contains valuable information that is relevant to our thesis research. However, due to its large size, it is impractical to work with the entire dataset for our analysis.\n",
    "\n",
    "Therefore, our first step is to explore the original dataset and come up with strategies to sample a smaller subset of data that is representative of the entire dataset. By sampling a smaller set of data, we can reduce the computational requirements and processing time while still obtaining meaningful insights for our thesis purpose.\n",
    "\n",
    "In this notebook, we will walk through the process of exploring the original dataset, understanding its structure, and devising a sampling strategy to create a smaller dataset that meets our research needs. We will leverage various data manipulation techniques and tools to efficiently sample the data and ensure that the resulting subset is representative of the original dataset.\n",
    "\n",
    "By effectively sampling a smaller set of data, we can streamline our analysis, improve computational efficiency, and focus on the specific aspects of the dataset that are relevant to our thesis research. Let's dive into the exploration and sampling process to create a manageable dataset for our thesis analysis.\n"
   ]
  },
  {
   "cell_type": "code",
   "execution_count": 4,
   "metadata": {},
   "outputs": [
    {
     "name": "stdout",
     "output_type": "stream",
     "text": [
      "[\n",
      "{\"id\": \"53e99784b7602d9701f3ffdd\", \"title\": \"Flow.\", \"doi\": \"10.1145/1280120.1280225\", \"issue\": \"10\", \"keywords\": [], \"lang\": \"en\", \"venue\": {\"raw\": \"SIGGRAPH Art Gallery\"}, \"year\": 2006, \"n_citation\": 15, \"page_start\": \"\", \"page_end\": \"\", \"volume\": \"\", \"issn\": \"\", \"isbn\": \"\", \"url\": [], \"abstract\": \"\", \"authors\": [{\"id\": \"53f43776dabfaee0d9b6e75b\", \"name\": \"Masa Inakage\", \"org\": \"\"}], \"doc_type\": \"Conference\"},\n",
      "{\"id\": \"53e99785b7602d9701f41492\", \"title\": \"Dancing\", \"doi\": \"10.1145/281388.281845\", \"issue\": \"19\", \"keywords\": [], \"lang\": \"en\", \"venue\": {\"raw\": \"ACM SIGGRAPH 98 Electronic art and animation catalog\"}, \"year\": 1998, \"n_citation\": 0, \"page_start\": \"116\", \"page_end\": \"116\", \"volume\": \"3\", \"issn\": \"0036-8733\", \"isbn\": \"1-58113-045-7\", \"url\": [\"http://dx.doi.org/10.1145/281388.281845\", \"http://dx.doi.org/10.1038/scientificamerican01291848-147h\", \"http://www.nature.com/scientificamerican/journal/v3/n19/full/scientificamerican01291848-147h.html\", \"http://dx.doi.org/doi:10.1038/scientificamerican01291848-147h\", \"http://doi.acm.org/10.1145/281388.281845\"], \"abstract\": \"\", \"authors\": [{\"id\": \"53f42e86dabfaee43ebd375a\", \"name\": \"Abdullah Alothman\", \"org\": \"\"}], \"doc_type\": \"Conference\"},\n",
      "Saved the first 4000 lines as JSON objects to ProcessedData/first_4000_papers.json\n"
     ]
    }
   ],
   "source": [
    "import json\n",
    "\n",
    "file_path = \"Data/dblp_v14.json\"\n",
    "max_lines = 4000\n",
    "\n",
    "# Generate the output file path based on the max_lines value\n",
    "output_file_path = f\"ProcessedData/first_{max_lines}_papers.json\"\n",
    "\n",
    "# Open the JSON file for reading\n",
    "with open(file_path, 'r', encoding='utf-8') as json_file:\n",
    "    # Initialize a counter to keep track of the lines collected\n",
    "    line_count = 0\n",
    "    \n",
    "    # Initialize a list to store the first 1000 lines\n",
    "    first_lines = []\n",
    "    \n",
    "    # Iterate through the JSON file line by line\n",
    "    for line in json_file:\n",
    "        line_count += 1\n",
    "        first_lines.append(line.strip())  # Strip leading/trailing whitespace\n",
    "        \n",
    "        # Check if we've collected the desired number of lines\n",
    "        if line_count >= max_lines:\n",
    "            break\n",
    "\n",
    "# print out the first 3 lines to have a look at the data\n",
    "for line in first_lines[:3]:\n",
    "    print(line)\n",
    "\n",
    "\n",
    "# Write the first lines to a new JSON file which can be used to checked the data\n",
    "with open(output_file_path, 'w', encoding='utf-8') as output_file:\n",
    "    output_file.write(\"[\\n\")\n",
    "    output_file.write(\"\\n\".join(first_lines))  # Join lines with commas\n",
    "    output_file.write(\"\\n]\")\n",
    "\n",
    "print(f\"Saved the first {line_count} lines as JSON objects to {output_file_path}\")\n"
   ]
  },
  {
   "cell_type": "markdown",
   "metadata": {},
   "source": [
    "From the previous step, we have observed that the dataset consists of nested complex JSON objects. To perform descriptive analysis on the original database, we will initially focus on extracting the year and number of citations for each record. This will provide us with valuable insights into the dataset's temporal distribution and the impact of the publications.\n"
   ]
  },
  {
   "cell_type": "code",
   "execution_count": 14,
   "metadata": {},
   "outputs": [
    {
     "name": "stdout",
     "output_type": "stream",
     "text": [
      "Exported 5259858 'year' and 'n_citation' values to ProcessedData/years_and_n_citation.csv\n",
      "Wall time: 5min 30s\n"
     ]
    }
   ],
   "source": [
    "%%time\n",
    "import json\n",
    "import pandas as pd\n",
    "import h5py\n",
    "#this variable was used for debugging purposes. It is not needed anymore\n",
    "max_lines = 1000000000000000\n",
    "\n",
    "file_path = \"Data/dblp_v14.json\"\n",
    "output_csv_file = \"ProcessedData/years_and_n_citation.csv\"  # Specify the Excel file name\n",
    "\n",
    "# Initialize lists to store the \"year\" and \"n_citation\" values\n",
    "years = []\n",
    "n_citations = []\n",
    "\n",
    "# Open the JSON file for reading\n",
    "with open(file_path, 'r', encoding='utf-8') as json_file:\n",
    "    # Iterate through the JSON file line by line\n",
    "    for line_number, line in enumerate(json_file, start=1):\n",
    "        try:\n",
    "            if len(line) > 10:\n",
    "                data = json.loads(line.strip().strip(',]'))\n",
    "\n",
    "                years.append(data.get(\"year\", None))  # Append \"year\" value or None if it's missing\n",
    "                n_citations.append(data.get(\"n_citation\", None))  # Append \"n_citation\" value or None if it's missing\n",
    "        except json.JSONDecodeError as e:\n",
    "            print(f\"Error at line {line_number}: {e}\")\n",
    "\n",
    "        if line_number >= max_lines:\n",
    "            break\n",
    "\n",
    "# Create a DataFrame from the \"years\" and \"n_citation\" lists\n",
    "df = pd.DataFrame({\"Year\": years, \"n_citation\": n_citations})\n",
    "\n",
    "# Export the DataFrame to an Excel file\n",
    "df.to_csv(output_csv_file, index=False)\n",
    "\n",
    "print(f\"Exported {len(years)} 'year' and 'n_citation' values to {output_csv_file}\")\n"
   ]
  },
  {
   "cell_type": "markdown",
   "metadata": {},
   "source": [
    "# Descriptive analysis for the entire database\n",
    "\n",
    "Histogram of papers by year is presented below. Please note that for some papers there is no year data. "
   ]
  },
  {
   "cell_type": "markdown",
   "metadata": {},
   "source": [
    "\n"
   ]
  },
  {
   "cell_type": "code",
   "execution_count": 132,
   "metadata": {},
   "outputs": [
    {
     "data": {
      "image/png": "[encoded data removed]",
      "text/plain": [
       "<Figure size 640x450 with 2 Axes>"
      ]
     },
     "metadata": {},
     "output_type": "display_data"
    }
   ],
   "source": [
    "import pandas as pd\n",
    "\n",
    "import matplotlib.pyplot as plt\n",
    "\n",
    "# Define the input file name (CSV)\n",
    "input_file = 'ProcessedData/years_and_n_citation.csv'\n",
    "\n",
    "# Read the CSV file\n",
    "df = pd.read_csv(input_file)\n",
    "\n",
    "# Filter the DataFrame to include only years greater than 0\n",
    "df_filtered = df[df['Year'] > 0]\n",
    "\n",
    "# Get the minimum and maximum years to define bin edges\n",
    "min_year = df_filtered['Year'].min()\n",
    "max_year = df_filtered['Year'].max()\n",
    "\n",
    "# Define the bin edges, one per year\n",
    "bin_edges = list(range(int(min_year), int(max_year) + 2))  # Adding 2 to include the maximum year\n",
    "\n",
    "# Calculate the mean number of citations per year\n",
    "mean_citations_per_year = df_filtered.groupby('Year')['n_citation'].mean()\n",
    "\n",
    "# Increase the figure size for better readability\n",
    "fig, ax1 = plt.subplots(figsize=(6.4, 4.5))  # Adjust the width (10) and height (6) as needed\n",
    "\n",
    "# Create a histogram of the filtered dataset with one year per bin\n",
    "ax1.hist(df_filtered['Year'], bins=bin_edges, color='gray', edgecolor='black', label='Number of papers')\n",
    "\n",
    "# Remove the title of the graph\n",
    "ax1.set_title('')\n",
    "\n",
    "# Set the axis labels for the histogram\n",
    "ax1.set_xlabel('Year', fontsize=12, fontname='Arial')\n",
    "ax1.set_ylabel('Number of papers', fontsize=12, fontname='Arial')\n",
    "\n",
    "# Set the tick label font size and style for the histogram\n",
    "ax1.tick_params(axis='x', labelsize=10)\n",
    "ax1.tick_params(axis='y', labelsize=10)\n",
    "plt.xticks(fontsize=10, fontname='Arial')\n",
    "plt.yticks(fontsize=10, fontname='Arial')\n",
    "\n",
    "# Remove the top and right spines for a cleaner look\n",
    "ax1.spines['top'].set_visible(False)\n",
    "ax1.spines['right'].set_visible(False)\n",
    "\n",
    "# Create a second y-axis for the scatter line\n",
    "ax2 = ax1.twinx()\n",
    "ax2.plot(mean_citations_per_year.index, mean_citations_per_year.values, color='black', marker='o', linestyle='-', label='Mean Citations')\n",
    "\n",
    "# Set the y-axis label for the scatter line\n",
    "ax2.set_ylabel('Mean Citations', fontsize=12, fontname='Arial')\n",
    "\n",
    "# Set the tick label font size and style for the scatter line\n",
    "ax2.tick_params(axis='y', labelsize=10)\n",
    "plt.yticks(fontsize=10, fontname='Arial')\n",
    "\n",
    "# Move the legend to the top center and remove the border line\n",
    "legend = fig.legend(loc=\"upper center\", bbox_to_anchor=(0.5, 0.95), bbox_transform=ax1.transAxes, frameon=False)\n",
    "\n",
    "# Set the legend font size and style\n",
    "for text in legend.get_texts():\n",
    "    text.set_fontsize(10)\n",
    "    text.set_fontname('Arial')\n",
    "\n",
    "# Remove grid lines for a cleaner appearance\n",
    "ax1.grid(False)\n",
    "ax2.grid(False)\n",
    "\n",
    "# Save the plot as an image file with high resolution\n",
    "plt.savefig('Graphs/histogram_apa_style_with_citations_secondary_axis.png', dpi=1600, bbox_inches='tight')\n",
    "\n",
    "# Show the plot\n",
    "plt.show()\n"
   ]
  },
  {
   "cell_type": "markdown",
   "metadata": {},
   "source": [
    "\n",
    "Next, descriptive statistics for the number of citations are presented. These statistics provide insights into the distribution and characteristics of the citation counts in the dataset. By analyzing these statistics, we can gain a better understanding of the impact and popularity of the publications in the dataset."
   ]
  },
  {
   "cell_type": "code",
   "execution_count": 41,
   "metadata": {},
   "outputs": [
    {
     "name": "stdout",
     "output_type": "stream",
     "text": [
      "Descriptive Statistics for 'n_citation' Overall:\n",
      "count    5.259858e+06\n",
      "mean     2.557821e+01\n",
      "std      2.675704e+02\n",
      "min      0.000000e+00\n",
      "25%      0.000000e+00\n",
      "50%      3.000000e+00\n",
      "75%      1.500000e+01\n",
      "max      1.493590e+05\n",
      "Name: n_citation, dtype: float64\n",
      "\n",
      "Descriptive Statistics for 'n_citation' in Year 2010:\n",
      "count    205369.000000\n",
      "mean         28.698397\n",
      "std         193.925635\n",
      "min           0.000000\n",
      "25%           1.000000\n",
      "50%           6.000000\n",
      "75%          21.000000\n",
      "max       28920.000000\n",
      "Name: n_citation, dtype: float64\n"
     ]
    }
   ],
   "source": [
    "import pandas as pd\n",
    "from tabulate import tabulate\n",
    "\n",
    "# Load the Excel file into a pandas DataFrame\n",
    "file_path = 'ProcessedData/years_and_n_citation.csv'\n",
    "df = pd.read_csv(file_path)\n",
    "\n",
    "# Calculate descriptive statistics for 'n_citation' overall\n",
    "overall_stats = df['n_citation'].describe()\n",
    "\n",
    "# Calculate descriptive statistics for 'n_citation' in the year 2010\n",
    "year_2010_stats = df[df['Year'] == 2010]['n_citation'].describe()\n",
    "\n",
    "# Format the descriptive statistics as tables\n",
    "overall_stats_table = tabulate(overall_stats.reset_index(), headers=['Statistic', 'Value'], tablefmt='grid')\n",
    "year_2010_stats_table = tabulate(year_2010_stats.reset_index(), headers=['Statistic', 'Value'], tablefmt='grid')\n",
    "\n",
    "# Print the descriptive statistics tables\n",
    "print(\"Descriptive Statistics for 'n_citation' Overall:\")\n",
    "#print(overall_stats_table)\n",
    "print(overall_stats)\n",
    "\n",
    "\n",
    "print(\"\\nDescriptive Statistics for 'n_citation' in Year 2010:\")\n",
    "#print(year_2010_stats_table)\n",
    "print(year_2010_stats)"
   ]
  },
  {
   "cell_type": "code",
   "execution_count": null,
   "metadata": {},
   "outputs": [],
   "source": []
  },
  {
   "cell_type": "markdown",
   "metadata": {},
   "source": [
    "There are several factors that can impact the citation data of research papers. One of the key factors is the topic of the paper, as it determines the relevance and interest of the research. Additionally, the year in which a paper is published can also play a significant role in its citation count.\n",
    "\n",
    "To gain insights into the relationship between the publication year and the citation count, we have calculated the mean citation count for papers published in each year. This analysis allows us to understand the average impact and popularity of papers across different years.\n",
    "\n",
    "By examining the mean citation count by year, we can identify trends and patterns in the citation behavior of papers over time. This information can be valuable in understanding the dynamics of research impact and can guide future research strategies.\n",
    "\n",
    "In the next steps of our analysis, we will further explore the relationship between other factors, such as the topic of the paper, and the citation count. This will provide a comprehensive understanding of the various factors that influence the citation data and help us make informed decisions in our research.\n"
   ]
  },
  {
   "cell_type": "code",
   "execution_count": 24,
   "metadata": {},
   "outputs": [
    {
     "name": "stdout",
     "output_type": "stream",
     "text": [
      "    Year  Mean Citation  Count of Records\n",
      "0      0       4.875000                32\n",
      "1   1936     157.250000                12\n",
      "2   1937      84.000000                15\n",
      "3   1938      49.500000                10\n",
      "4   1939      17.777778                18\n",
      "5   1940     396.800000                10\n",
      "6   1941     125.833333                12\n",
      "7   1942      22.583333                12\n",
      "8   1943      44.250000                 8\n",
      "9   1944      58.800000                 5\n",
      "10  1945      70.875000                 8\n",
      "11  1946      26.354839                31\n",
      "12  1947     127.400000                10\n",
      "13  1948      97.967742                31\n",
      "14  1949     323.920000                50\n",
      "15  1950      38.041667                24\n",
      "16  1951      38.593750                32\n",
      "17  1952       8.450000               100\n",
      "18  1953      14.641026               156\n",
      "19  1954      50.465000               200\n",
      "20  1955      19.133690               187\n",
      "21  1956      40.834459               296\n",
      "22  1957      35.552817               284\n",
      "23  1958      27.815981               413\n",
      "24  1959      78.515464               679\n",
      "25  1960      68.877514               547\n",
      "26  1961      39.375000               824\n",
      "27  1962      56.157063              1076\n",
      "28  1963      74.179596               941\n",
      "29  1964      45.163812               934\n",
      "..   ...            ...               ...\n",
      "60  1995      57.569399             42090\n",
      "61  1996      52.194756             45765\n",
      "62  1997      55.254820             50047\n",
      "63  1998      53.401134             57153\n",
      "64  1999      51.833205             61051\n",
      "65  2000      55.465133             69808\n",
      "66  2001      55.661674             74777\n",
      "67  2002      54.971971             85805\n",
      "68  2003      52.327844             96735\n",
      "69  2004      46.893573            113646\n",
      "70  2005      40.347574            138969\n",
      "71  2006      36.372387            156842\n",
      "72  2007      34.856124            167019\n",
      "73  2008      31.552281            175083\n",
      "74  2009      30.332801            195402\n",
      "75  2010      28.698397            205369\n",
      "76  2011      26.348395            222222\n",
      "77  2012      23.135322            238439\n",
      "78  2013      22.334744            247338\n",
      "79  2014      21.902388            259262\n",
      "80  2015      20.641051            253192\n",
      "81  2016      16.682519            244100\n",
      "82  2017      16.754170            260823\n",
      "83  2018      13.156266            303693\n",
      "84  2019       9.151890            319770\n",
      "85  2020       7.506207            286229\n",
      "86  2021       3.921156            317753\n",
      "87  2022       1.075393            233962\n",
      "88  2023       1.157895              1596\n",
      "89  2024       0.000000                 9\n",
      "\n",
      "[90 rows x 3 columns]\n"
     ]
    }
   ],
   "source": [
    "import pandas as pd\n",
    "\n",
    "# Load the Excel file into a pandas DataFrame\n",
    "file_path = 'ProcessedData/years_and_n_citation.csv'\n",
    "df = pd.read_csv(file_path)\n",
    "\n",
    "# Calculate the mean number of citations per year\n",
    "mean_citations_per_year = df.groupby('Year')['n_citation'].mean()\n",
    "\n",
    "# Calculate the count of records per year\n",
    "count_records_per_year = df.groupby('Year').size()\n",
    "\n",
    "# Create a DataFrame to store the results\n",
    "result_df = pd.DataFrame({\n",
    "    'Year': mean_citations_per_year.index,\n",
    "    'Mean Citation': mean_citations_per_year.values,\n",
    "    'Count of Records': count_records_per_year.values\n",
    "})\n",
    "\n",
    "# Export the outcome to Excel\n",
    "output_file = 'ProcessedData/citations_and_records_per_year.xlsx'\n",
    "result_df.to_excel(output_file, index=False)\n",
    "\n",
    "# Display the result DataFrame\n",
    "print(result_df)"
   ]
  },
  {
   "cell_type": "markdown",
   "metadata": {},
   "source": [
    "## Research Objective\n",
    "\n",
    "The primary objective of this research is to employ topic modeling techniques to conduct an in-depth analysis of academic papers. Our analysis will focus on the abstracts of these papers, as they provide concise summaries of the research findings and methodologies. To ensure a focused and manageable study, we have selected a subset of papers published in the year 2010. This selection will enable us to explore the prevailing research themes and methodologies of that period, offering valuable insights into the academic discourse.\n",
    "\n",
    "### Data Requirements\n",
    "\n",
    "For the analysis conducted in this notebook, we will utilize two key variables for each paper:\n",
    "- **Abstract**: This will serve as the input for topic modeling.\n",
    "- **Number of Citations**: This will be used to evaluate the impact of the identified topics.\n",
    "\n",
    "By analyzing these variables, we aim to uncover significant patterns and trends within the academic literature of 2010.\n",
    "\n",
    "However, it appears that certain papers do not have an abstract. These papers are fitlered out. \n",
    "In addition, it appears that even by considering only the papers published in 2010, the large number of papers and their size pose a challenge for the next step of topic modeling. To address this, a sampled subset of the papers has been created. Both the sampled subset and the complete dataset are saved in both CSV and JSON formats for further analysis and convenience.\n"
   ]
  },
  {
   "cell_type": "code",
   "execution_count": 9,
   "metadata": {},
   "outputs": [
    {
     "name": "stdout",
     "output_type": "stream",
     "text": [
      "Exported 176844 records with 'year' equal to 2010 and non-empty 'abstract' to ProcessedData/year_2010_records_with_non_empty_abstract.csv\n",
      "Exported 176844 records with 'year' equal to 2010 and non-empty 'abstract' to ProcessedData/year_2010_records_with_non_empty_abstract.json\n",
      "Exported 8842 sampled records to ProcessedData/sampled_year_2010_records.json\n",
      "Wall time: 5min 17s\n"
     ]
    }
   ],
   "source": [
    "%%time\n",
    "import json\n",
    "import pandas as pd\n",
    "\n",
    "max_lines = 100000000000000000\n",
    "\n",
    "file_path = \"Data/dblp_v14.json\"\n",
    "output_csv_file = \"ProcessedData/year_2010_records_with_non_empty_abstract.csv\"  # Specify the CSV file name\n",
    "output_json_file = \"ProcessedData/year_2010_records_with_non_empty_abstract.json\"  # Specify the JSON file name\n",
    "output_sampled_json_file = \"ProcessedData/sampled_year_2010_records.json\"  # Specify the sampled JSON file name\n",
    "\n",
    "# Initialize lists to store the \"year,\" \"n_citation,\" and \"abstract\" values\n",
    "years = []\n",
    "n_citations = []\n",
    "abstracts = []\n",
    "\n",
    "# Open the JSON file for reading\n",
    "with open(file_path, 'r', encoding='utf-8') as json_file:\n",
    "    # Iterate through the JSON file line by line\n",
    "    for line_number, line in enumerate(json_file, start=1):\n",
    "        try:\n",
    "            if len(line) > 10:\n",
    "                data = json.loads(line.strip().strip(',]'))\n",
    "\n",
    "                year = data.get(\"year\", None)\n",
    "                abstract = data.get(\"abstract\", None)\n",
    "                \n",
    "                if year == 2010 and abstract:  # Check if \"year\" is 2010 and \"abstract\" is not empty\n",
    "                    years.append(year)\n",
    "                    n_citations.append(data.get(\"n_citation\", None))\n",
    "                    abstracts.append(abstract)\n",
    "        except json.JSONDecodeError as e:\n",
    "            print(f\"Error at line {line_number}: {e}\")\n",
    "\n",
    "        if line_number >= max_lines:\n",
    "            break\n",
    "\n",
    "# Create the original DataFrame from the filtered data\n",
    "df = pd.DataFrame({\"Year\": years, \"n_citation\": n_citations, \"Abstract\": abstracts})\n",
    "\n",
    "# Export the original DataFrame to a CSV file\n",
    "df.to_csv(output_csv_file, index=False)\n",
    "\n",
    "# Save the original DataFrame as a JSON file\n",
    "df.to_json(output_json_file, orient='records', lines=True)\n",
    "\n",
    "print(f\"Exported {len(years)} records with 'year' equal to 2010 and non-empty 'abstract' to {output_csv_file}\")\n",
    "print(f\"Exported {len(years)} records with 'year' equal to 2010 and non-empty 'abstract' to {output_json_file}\")\n",
    "\n",
    "# Perform random sampling of 5% of the DataFrame\n",
    "sampled_df = df.sample(frac=0.05, random_state=42)  # 5% sampling rate with a random seed (42)\n",
    "\n",
    "# Save the sampled DataFrame as a JSON file\n",
    "sampled_df.to_json(output_sampled_json_file, orient='records', lines=True)\n",
    "\n",
    "print(f\"Exported {len(sampled_df)} sampled records to {output_sampled_json_file}\")\n",
    "\n"
   ]
  },
  {
   "cell_type": "code",
   "execution_count": 2,
   "metadata": {},
   "outputs": [
    {
     "data": {
      "text/plain": [
       "count     8842.000000\n",
       "mean        30.369713\n",
       "std        142.617448\n",
       "min          0.000000\n",
       "25%          2.000000\n",
       "50%          8.000000\n",
       "75%         24.000000\n",
       "max      10010.000000\n",
       "Name: n_citation, dtype: float64"
      ]
     },
     "execution_count": 2,
     "metadata": {},
     "output_type": "execute_result"
    }
   ],
   "source": [
    "import pandas as pd\n",
    "citation = pd.read_csv('ProcessedData/n_citation_data.csv')\n",
    "citation['n_citation'].describe()"
   ]
  },
  {
   "cell_type": "markdown",
   "metadata": {},
   "source": [
    "Next, we explore the distribution of the citation numbers. "
   ]
  },
  {
   "cell_type": "code",
   "execution_count": 19,
   "metadata": {},
   "outputs": [
    {
     "name": "stdout",
     "output_type": "stream",
     "text": [
      "Shapiro-Wilk Test: Statistics=0.13504594564437866, p-value=0.0\n",
      "D'Agostino's K^2 Test: Statistics=26454.571461017855, p-value=0.0\n",
      "Kolmogorov-Smirnov Test: Statistics=0.7528662444372539, p-value=0.0\n",
      "Shapiro-Wilk Test: Sample does not look Gaussian (reject H0)\n",
      "D'Agostino's K^2 Test: Sample does not look Gaussian (reject H0)\n",
      "Kolmogorov-Smirnov Test: Sample does not look Gaussian (reject H0)\n"
     ]
    },
    {
     "name": "stderr",
     "output_type": "stream",
     "text": [
      "c:\\Users\\inrus\\anaconda3\\envs\\myenv\\lib\\site-packages\\scipy\\stats\\morestats.py:1681: UserWarning: p-value may not be accurate for N > 5000.\n",
      "  warnings.warn(\"p-value may not be accurate for N > 5000.\")\n"
     ]
    }
   ],
   "source": [
    "import pandas as pd\n",
    "import matplotlib.pyplot as plt\n",
    "import seaborn as sns\n",
    "from scipy.stats import shapiro, normaltest, kstest\n",
    "\n",
    "\n",
    "df = citation\n",
    "\n",
    "\n",
    "# Conduct normality tests\n",
    "stat_shapiro, p_value_shapiro = shapiro(df['n_citation'])\n",
    "stat_dagostino, p_value_dagostino = normaltest(df['n_citation'])\n",
    "stat_ks, p_value_ks = kstest(df['n_citation'], 'norm')\n",
    "\n",
    "print(f'Shapiro-Wilk Test: Statistics={stat_shapiro}, p-value={p_value_shapiro}')\n",
    "print(f'D\\'Agostino\\'s K^2 Test: Statistics={stat_dagostino}, p-value={p_value_dagostino}')\n",
    "print(f'Kolmogorov-Smirnov Test: Statistics={stat_ks}, p-value={p_value_ks}')\n",
    "\n",
    "# Interpretation of p-values\n",
    "alpha = 0.05\n",
    "if p_value_shapiro > alpha:\n",
    "    print('Shapiro-Wilk Test: Sample looks Gaussian (fail to reject H0)')\n",
    "else:\n",
    "    print('Shapiro-Wilk Test: Sample does not look Gaussian (reject H0)')\n",
    "\n",
    "if p_value_dagostino > alpha:\n",
    "    print('D\\'Agostino\\'s K^2 Test: Sample looks Gaussian (fail to reject H0)')\n",
    "else:\n",
    "    print('D\\'Agostino\\'s K^2 Test: Sample does not look Gaussian (reject H0)')\n",
    "\n",
    "if p_value_ks > alpha:\n",
    "    print('Kolmogorov-Smirnov Test: Sample looks Gaussian (fail to reject H0)')\n",
    "else:\n",
    "    print('Kolmogorov-Smirnov Test: Sample does not look Gaussian (reject H0)')\n"
   ]
  },
  {
   "cell_type": "code",
   "execution_count": 18,
   "metadata": {},
   "outputs": [
    {
     "data": {
      "image/png": "[encoded data removed]",
      "text/plain": [
       "<Figure size 432x288 with 1 Axes>"
      ]
     },
     "metadata": {
      "needs_background": "light"
     },
     "output_type": "display_data"
    },
    {
     "data": {
      "image/png": "[encoded data removed]",
      "text/plain": [
       "<Figure size 432x288 with 1 Axes>"
      ]
     },
     "metadata": {
      "needs_background": "light"
     },
     "output_type": "display_data"
    }
   ],
   "source": [
    "# Set the font to Arial and color palette to grayscale\n",
    "plt.rcParams['font.family'] = 'Arial'\n",
    "plt.rcParams['axes.labelcolor'] = 'black'\n",
    "plt.rcParams['xtick.color'] = 'black'\n",
    "plt.rcParams['ytick.color'] = 'black'\n",
    "sns.set_palette('gray')\n",
    "\n",
    "# Histogram with specified bins\n",
    "plt.figure(figsize=(6, 4))\n",
    "sns.histplot(citation['n_citation'], kde=True, bins=20, color='black')\n",
    "plt.xlabel('Number of Citations')\n",
    "plt.ylabel('Frequency')\n",
    "plt.savefig('Graphs/histogram_n_citation.png', dpi=300, bbox_inches='tight')\n",
    "plt.show()\n",
    "plt.close()\n",
    "\n",
    "# Boxplot\n",
    "plt.figure(figsize=(6, 4))\n",
    "sns.boxplot(x=citation['n_citation'], color='black')\n",
    "plt.xlabel('Number of Citations')\n",
    "plt.savefig('Graphs/boxplot_n_citation.png', dpi=300, bbox_inches='tight')\n",
    "plt.show()\n",
    "plt.close()\n",
    "\n"
   ]
  },
  {
   "cell_type": "code",
   "execution_count": 17,
   "metadata": {},
   "outputs": [
    {
     "data": {
      "image/png": "[encoded data removed]",
      "text/plain": [
       "<Figure size 432x288 with 1 Axes>"
      ]
     },
     "metadata": {
      "needs_background": "light"
     },
     "output_type": "display_data"
    },
    {
     "data": {
      "image/png": "[encoded data removed]",
      "text/plain": [
       "<Figure size 432x288 with 1 Axes>"
      ]
     },
     "metadata": {
      "needs_background": "light"
     },
     "output_type": "display_data"
    },
    {
     "name": "stdout",
     "output_type": "stream",
     "text": [
      "Shapiro-Wilk Test: Statistics=0.9672849178314209, p-value=1.0900280364443455e-40\n",
      "D'Agostino's K^2 Test: Statistics=223.8865666249643, p-value=2.4190774397145423e-49\n",
      "Kolmogorov-Smirnov Test: Statistics=0.06986804374750444, p-value=5.628260350566405e-38\n",
      "Shapiro-Wilk Test: Sample does not look Gaussian (reject H0)\n",
      "D'Agostino's K^2 Test: Sample does not look Gaussian (reject H0)\n",
      "Kolmogorov-Smirnov Test: Sample does not look Gaussian (reject H0)\n"
     ]
    },
    {
     "name": "stderr",
     "output_type": "stream",
     "text": [
      "c:\\Users\\inrus\\anaconda3\\envs\\myenv\\lib\\site-packages\\scipy\\stats\\morestats.py:1681: UserWarning: p-value may not be accurate for N > 5000.\n",
      "  warnings.warn(\"p-value may not be accurate for N > 5000.\")\n"
     ]
    }
   ],
   "source": [
    "# Apply log transformation to handle skewness\n",
    "citation['log_n_citation'] = np.log1p(citation['n_citation'])\n",
    "\n",
    "# Set the font to Arial and color palette to grayscale\n",
    "plt.rcParams['font.family'] = 'Arial'\n",
    "plt.rcParams['axes.labelcolor'] = 'black'\n",
    "plt.rcParams['xtick.color'] = 'black'\n",
    "plt.rcParams['ytick.color'] = 'black'\n",
    "sns.set_palette('gray')\n",
    "\n",
    "# Histogram with specified bins\n",
    "plt.figure(figsize=(6, 4))\n",
    "sns.histplot(citation['log_n_citation'], kde=True, bins=20, color='black')\n",
    "plt.xlabel('Log of Number of Citations')\n",
    "plt.ylabel('Frequency')\n",
    "plt.savefig('Graphs/histogram_log_n_citation.png', dpi=300, bbox_inches='tight')\n",
    "plt.show()\n",
    "plt.close()\n",
    "\n",
    "# Boxplot\n",
    "plt.figure(figsize=(6, 4))\n",
    "sns.boxplot(x=citation['log_n_citation'], color='black')\n",
    "plt.xlabel('Log of Number of Citations')\n",
    "plt.savefig('Graphs/boxplot_log_n_citation.png', dpi=300, bbox_inches='tight')\n",
    "plt.show()\n",
    "plt.close()\n",
    "\n",
    "# Conduct normality tests on the log-transformed data\n",
    "stat_shapiro, p_value_shapiro = shapiro(citation['log_n_citation'])\n",
    "stat_dagostino, p_value_dagostino = normaltest(citation['log_n_citation'])\n",
    "stat_ks, p_value_ks = kstest(citation['log_n_citation'], 'norm', args=(citation['log_n_citation'].mean(), citation['log_n_citation'].std()))\n",
    "\n",
    "print(f'Shapiro-Wilk Test: Statistics={stat_shapiro}, p-value={p_value_shapiro}')\n",
    "print(f'D\\'Agostino\\'s K^2 Test: Statistics={stat_dagostino}, p-value={p_value_dagostino}')\n",
    "print(f'Kolmogorov-Smirnov Test: Statistics={stat_ks}, p-value={p_value_ks}')\n",
    "\n",
    "# Interpretation of p-values\n",
    "alpha = 0.05\n",
    "if p_value_shapiro > alpha:\n",
    "    print('Shapiro-Wilk Test: Sample looks Gaussian (fail to reject H0)')\n",
    "else:\n",
    "    print('Shapiro-Wilk Test: Sample does not look Gaussian (reject H0)')\n",
    "\n",
    "if p_value_dagostino > alpha:\n",
    "    print('D\\'Agostino\\'s K^2 Test: Sample looks Gaussian (fail to reject H0)')\n",
    "else:\n",
    "    print('D\\'Agostino\\'s K^2 Test: Sample does not look Gaussian (reject H0)')\n",
    "\n",
    "if p_value_ks > alpha:\n",
    "    print('Kolmogorov-Smirnov Test: Sample looks Gaussian (fail to reject H0)')\n",
    "else:\n",
    "    print('Kolmogorov-Smirnov Test: Sample does not look Gaussian (reject H0)')"
   ]
  }
 ],
 "metadata": {
  "kernelspec": {
   "display_name": "Python 3 (ipykernel)",
   "language": "python",
   "name": "python3"
  },
  "language_info": {
   "codemirror_mode": {
    "name": "ipython",
    "version": 3
   },
   "file_extension": ".py",
   "mimetype": "text/x-python",
   "name": "python",
   "nbconvert_exporter": "python",
   "pygments_lexer": "ipython3",
   "version": "3.9.12"
  }
 },
 "nbformat": 4,
 "nbformat_minor": 2
}
