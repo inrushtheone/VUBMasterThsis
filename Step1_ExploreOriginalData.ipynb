{
 "cells": [
  {
   "cell_type": "markdown",
   "metadata": {},
   "source": [
    "# Introduction\n",
    "\n",
    "In this project, we are working with a large dataset that is approximately 18GB in size. The dataset contains valuable information that is relevant to our thesis research. However, due to its large size, it is impractical to work with the entire dataset for our analysis.\n",
    "\n",
    "Therefore, our first step is to explore the original dataset and come up with strategies to sample a smaller subset of data that is representative of the entire dataset. By sampling a smaller set of data, we can reduce the computational requirements and processing time while still obtaining meaningful insights for our thesis purpose.\n",
    "\n",
    "In this notebook, we will walk through the process of exploring the original dataset, understanding its structure, and devising a sampling strategy to create a smaller dataset that meets our research needs. We will leverage various data manipulation techniques and tools to efficiently sample the data and ensure that the resulting subset is representative of the original dataset.\n",
    "\n",
    "By effectively sampling a smaller set of data, we can streamline our analysis, improve computational efficiency, and focus on the specific aspects of the dataset that are relevant to our thesis research. Let's dive into the exploration and sampling process to create a manageable dataset for our thesis analysis.\n"
   ]
  },
  {
   "cell_type": "code",
   "execution_count": 4,
   "metadata": {},
   "outputs": [
    {
     "name": "stdout",
     "output_type": "stream",
     "text": [
      "[\n",
      "{\"id\": \"53e99784b7602d9701f3ffdd\", \"title\": \"Flow.\", \"doi\": \"10.1145/1280120.1280225\", \"issue\": \"10\", \"keywords\": [], \"lang\": \"en\", \"venue\": {\"raw\": \"SIGGRAPH Art Gallery\"}, \"year\": 2006, \"n_citation\": 15, \"page_start\": \"\", \"page_end\": \"\", \"volume\": \"\", \"issn\": \"\", \"isbn\": \"\", \"url\": [], \"abstract\": \"\", \"authors\": [{\"id\": \"53f43776dabfaee0d9b6e75b\", \"name\": \"Masa Inakage\", \"org\": \"\"}], \"doc_type\": \"Conference\"},\n",
      "{\"id\": \"53e99785b7602d9701f41492\", \"title\": \"Dancing\", \"doi\": \"10.1145/281388.281845\", \"issue\": \"19\", \"keywords\": [], \"lang\": \"en\", \"venue\": {\"raw\": \"ACM SIGGRAPH 98 Electronic art and animation catalog\"}, \"year\": 1998, \"n_citation\": 0, \"page_start\": \"116\", \"page_end\": \"116\", \"volume\": \"3\", \"issn\": \"0036-8733\", \"isbn\": \"1-58113-045-7\", \"url\": [\"http://dx.doi.org/10.1145/281388.281845\", \"http://dx.doi.org/10.1038/scientificamerican01291848-147h\", \"http://www.nature.com/scientificamerican/journal/v3/n19/full/scientificamerican01291848-147h.html\", \"http://dx.doi.org/doi:10.1038/scientificamerican01291848-147h\", \"http://doi.acm.org/10.1145/281388.281845\"], \"abstract\": \"\", \"authors\": [{\"id\": \"53f42e86dabfaee43ebd375a\", \"name\": \"Abdullah Alothman\", \"org\": \"\"}], \"doc_type\": \"Conference\"},\n",
      "Saved the first 4000 lines as JSON objects to ProcessedData/first_4000_papers.json\n"
     ]
    }
   ],
   "source": [
    "import json\n",
    "\n",
    "file_path = \"Data/dblp_v14.json\"\n",
    "max_lines = 4000\n",
    "\n",
    "# Generate the output file path based on the max_lines value\n",
    "output_file_path = f\"ProcessedData/first_{max_lines}_papers.json\"\n",
    "\n",
    "# Open the JSON file for reading\n",
    "with open(file_path, 'r', encoding='utf-8') as json_file:\n",
    "    # Initialize a counter to keep track of the lines collected\n",
    "    line_count = 0\n",
    "    \n",
    "    # Initialize a list to store the first 1000 lines\n",
    "    first_lines = []\n",
    "    \n",
    "    # Iterate through the JSON file line by line\n",
    "    for line in json_file:\n",
    "        line_count += 1\n",
    "        first_lines.append(line.strip())  # Strip leading/trailing whitespace\n",
    "        \n",
    "        # Check if we've collected the desired number of lines\n",
    "        if line_count >= max_lines:\n",
    "            break\n",
    "\n",
    "# print out the first 3 lines to have a look at the data\n",
    "for line in first_lines[:3]:\n",
    "    print(line)\n",
    "\n",
    "\n",
    "# Write the first lines to a new JSON file which can be used to checked the data\n",
    "with open(output_file_path, 'w', encoding='utf-8') as output_file:\n",
    "    output_file.write(\"[\\n\")\n",
    "    output_file.write(\"\\n\".join(first_lines))  # Join lines with commas\n",
    "    output_file.write(\"\\n]\")\n",
    "\n",
    "print(f\"Saved the first {line_count} lines as JSON objects to {output_file_path}\")\n"
   ]
  },
  {
   "cell_type": "markdown",
   "metadata": {},
   "source": [
    "From the previous step, we have observed that the dataset consists of nested complex JSON objects. To perform descriptive analysis on the original database, we will initially focus on extracting the year and number of citations for each record. This will provide us with valuable insights into the dataset's temporal distribution and the impact of the publications.\n"
   ]
  },
  {
   "cell_type": "markdown",
   "metadata": {},
   "source": []
  },
  {
   "cell_type": "code",
   "execution_count": 11,
   "metadata": {},
   "outputs": [
    {
     "name": "stdout",
     "output_type": "stream",
     "text": [
      "Exported 5259858 'year' values to ProcessedData/years.csv\n",
      "Wall time: 5min 32s\n"
     ]
    }
   ],
   "source": [
    "%%time\n",
    "import json\n",
    "import pandas as pd\n",
    "max_lines=1000000000000000\n",
    "\n",
    "file_path = \"Data/dblp_v14.json\"\n",
    "\n",
    "output_csv_file = \"ProcessedData/years.csv\"  # Path for the output CSV file\n",
    "\n",
    "# Initialize a list to store the \"year\" values\n",
    "years = []\n",
    "\n",
    "# Open the JSON file for reading\n",
    "with open(file_path, 'r', encoding='utf-8') as json_file:\n",
    "    # Iterate through the JSON file line by line\n",
    "    for line_number, line in enumerate(json_file, start=1):\n",
    "        try:\n",
    "            if len(line) > 10:\n",
    "                # Remove the trailing comma from the line\n",
    "                line = line.rstrip(',\\n]')\n",
    "\n",
    "                data = json.loads(line)\n",
    "\n",
    "                years.append(data[\"year\"])\n",
    "        except json.JSONDecodeError as e:\n",
    "            print(f\"Error at line {line_number}: {e}\")\n",
    "        \n",
    "        if line_number >= max_lines:\n",
    "            break\n",
    "\n",
    "\n",
    "# Create a DataFrame from the \"years\" list\n",
    "df = pd.DataFrame({\"Year\": years})\n",
    "import h5py\n",
    "with h5py.File(\"years.h5\", \"w\") as hf:\n",
    "    hf.create_dataset(\"year\", data=df[\"Year\"])\n",
    "# Export the DataFrame to an Excel file\n",
    "df.to_csv(output_csv_file, index=False)\n",
    "\n",
    "print(f\"Exported {len(years)} 'year' values to {output_csv_file}\")"
   ]
  },
  {
   "cell_type": "code",
   "execution_count": 14,
   "metadata": {},
   "outputs": [
    {
     "name": "stdout",
     "output_type": "stream",
     "text": [
      "Exported 5259858 'year' and 'n_citation' values to ProcessedData/years_and_n_citation.csv\n",
      "Wall time: 5min 30s\n"
     ]
    }
   ],
   "source": [
    "%%time\n",
    "import json\n",
    "import pandas as pd\n",
    "import h5py\n",
    "#this variable was used for debugging purposes. It is not needed anymore\n",
    "max_lines = 1000000000000000\n",
    "\n",
    "file_path = \"Data/dblp_v14.json\"\n",
    "output_csv_file = \"ProcessedData/years_and_n_citation.csv\"  # Specify the Excel file name\n",
    "\n",
    "# Initialize lists to store the \"year\" and \"n_citation\" values\n",
    "years = []\n",
    "n_citations = []\n",
    "\n",
    "# Open the JSON file for reading\n",
    "with open(file_path, 'r', encoding='utf-8') as json_file:\n",
    "    # Iterate through the JSON file line by line\n",
    "    for line_number, line in enumerate(json_file, start=1):\n",
    "        try:\n",
    "            if len(line) > 10:\n",
    "                data = json.loads(line.strip().strip(',]'))\n",
    "\n",
    "                years.append(data.get(\"year\", None))  # Append \"year\" value or None if it's missing\n",
    "                n_citations.append(data.get(\"n_citation\", None))  # Append \"n_citation\" value or None if it's missing\n",
    "        except json.JSONDecodeError as e:\n",
    "            print(f\"Error at line {line_number}: {e}\")\n",
    "\n",
    "        if line_number >= max_lines:\n",
    "            break\n",
    "\n",
    "# Create a DataFrame from the \"years\" and \"n_citation\" lists\n",
    "df = pd.DataFrame({\"Year\": years, \"n_citation\": n_citations})\n",
    "\n",
    "# Export the DataFrame to an Excel file\n",
    "df.to_csv(output_csv_file, index=False)\n",
    "\n",
    "print(f\"Exported {len(years)} 'year' and 'n_citation' values to {output_csv_file}\")\n"
   ]
  },
  {
   "cell_type": "markdown",
   "metadata": {},
   "source": [
    "# Descriptive analysis for the entire database\n",
    "\n",
    "Histogram of papers by year is presented below. Please note that for some papers there is no year data. "
   ]
  },
  {
   "cell_type": "code",
   "execution_count": 6,
   "metadata": {},
   "outputs": [
    {
     "data": {
      "image/png": "[encoded data removed]",
      "text/plain": [
       "<Figure size 720x432 with 1 Axes>"
      ]
     },
     "metadata": {
      "needs_background": "light"
     },
     "output_type": "display_data"
    }
   ],
   "source": [
    "import pandas as pd\n",
    "import matplotlib.pyplot as plt\n",
    "\n",
    "# Define the input file name (CSV)\n",
    "input_file = 'ProcessedData/years.csv'\n",
    "\n",
    "# Read the CSV file\n",
    "df = pd.read_csv(input_file)\n",
    "\n",
    "# Filter the DataFrame to include only years greater than 1900\n",
    "df_filtered = df[df['Year'] > 0]\n",
    "\n",
    "\n",
    "# Get the minimum and maximum years to define bin edges\n",
    "min_year = df_filtered['Year'].min()\n",
    "max_year = df_filtered['Year'].max()\n",
    "\n",
    "# Define the bin edges, one per year\n",
    "bin_edges = list(range(int(min_year), int(max_year) + 2))  # Adding 2 to include the maximum year\n",
    "\n",
    "# Increase the figure size for better readability\n",
    "plt.figure(figsize=(10, 6))  # Adjust the width (10) and height (6) as needed\n",
    "\n",
    "# Create a histogram of the filtered dataset with one year per bin\n",
    "plt.hist(df_filtered['Year'], bins=bin_edges, color='gray', edgecolor='black')\n",
    "\n",
    "# Set the title and axis labels\n",
    "plt.title('Number of papers by year', fontsize=14, fontname='Times New Roman')\n",
    "plt.xlabel('Year', fontsize=12, fontname='Times New Roman')\n",
    "plt.ylabel('Number', fontsize=12, fontname='Times New Roman')\n",
    "\n",
    "# Set the tick label font size and style\n",
    "plt.xticks(fontsize=10, fontname='Times New Roman')\n",
    "plt.yticks(fontsize=10, fontname='Times New Roman')\n",
    "\n",
    "# Remove the top and right spines for a cleaner look\n",
    "plt.gca().spines['top'].set_visible(False)\n",
    "plt.gca().spines['right'].set_visible(False)\n",
    "\n",
    "# Remove grid lines for a cleaner appearance\n",
    "plt.grid(False)\n",
    "\n",
    "# Save the plot as an image file with high resolution\n",
    "plt.savefig('Graphs/histogram_apa_style.png', dpi=300, bbox_inches='tight')\n",
    "\n",
    "# Show the plot\n",
    "plt.show()\n",
    "\n"
   ]
  },
  {
   "cell_type": "markdown",
   "metadata": {},
   "source": [
    "\n",
    "Next, descriptive statistics for the number of citations are presented. These statistics provide insights into the distribution and characteristics of the citation counts in the dataset. By analyzing these statistics, we can gain a better understanding of the impact and popularity of the publications in the dataset.\n"
   ]
  },
  {
   "cell_type": "code",
   "execution_count": 41,
   "metadata": {},
   "outputs": [
    {
     "name": "stdout",
     "output_type": "stream",
     "text": [
      "Descriptive Statistics for 'n_citation' Overall:\n",
      "count    5.259858e+06\n",
      "mean     2.557821e+01\n",
      "std      2.675704e+02\n",
      "min      0.000000e+00\n",
      "25%      0.000000e+00\n",
      "50%      3.000000e+00\n",
      "75%      1.500000e+01\n",
      "max      1.493590e+05\n",
      "Name: n_citation, dtype: float64\n",
      "\n",
      "Descriptive Statistics for 'n_citation' in Year 2010:\n",
      "count    205369.000000\n",
      "mean         28.698397\n",
      "std         193.925635\n",
      "min           0.000000\n",
      "25%           1.000000\n",
      "50%           6.000000\n",
      "75%          21.000000\n",
      "max       28920.000000\n",
      "Name: n_citation, dtype: float64\n"
     ]
    }
   ],
   "source": [
    "import pandas as pd\n",
    "from tabulate import tabulate\n",
    "\n",
    "# Load the Excel file into a pandas DataFrame\n",
    "file_path = 'ProcessedData/years_and_n_citation.csv'\n",
    "df = pd.read_csv(file_path)\n",
    "\n",
    "# Calculate descriptive statistics for 'n_citation' overall\n",
    "overall_stats = df['n_citation'].describe()\n",
    "\n",
    "# Calculate descriptive statistics for 'n_citation' in the year 2010\n",
    "year_2010_stats = df[df['Year'] == 2010]['n_citation'].describe()\n",
    "\n",
    "# Format the descriptive statistics as tables\n",
    "overall_stats_table = tabulate(overall_stats.reset_index(), headers=['Statistic', 'Value'], tablefmt='grid')\n",
    "year_2010_stats_table = tabulate(year_2010_stats.reset_index(), headers=['Statistic', 'Value'], tablefmt='grid')\n",
    "\n",
    "# Print the descriptive statistics tables\n",
    "print(\"Descriptive Statistics for 'n_citation' Overall:\")\n",
    "#print(overall_stats_table)\n",
    "print(overall_stats)\n",
    "\n",
    "\n",
    "print(\"\\nDescriptive Statistics for 'n_citation' in Year 2010:\")\n",
    "#print(year_2010_stats_table)\n",
    "print(year_2010_stats)"
   ]
  },
  {
   "cell_type": "markdown",
   "metadata": {},
   "source": [
    "There are several factors that can impact the citation data of research papers. One of the key factors is the topic of the paper, as it determines the relevance and interest of the research. Additionally, the year in which a paper is published can also play a significant role in its citation count.\n",
    "\n",
    "To gain insights into the relationship between the publication year and the citation count, we have calculated the mean citation count for papers published in each year. This analysis allows us to understand the average impact and popularity of papers across different years.\n",
    "\n",
    "By examining the mean citation count by year, we can identify trends and patterns in the citation behavior of papers over time. This information can be valuable in understanding the dynamics of research impact and can guide future research strategies.\n",
    "\n",
    "In the next steps of our analysis, we will further explore the relationship between other factors, such as the topic of the paper, and the citation count. This will provide a comprehensive understanding of the various factors that influence the citation data and help us make informed decisions in our research.\n"
   ]
  },
  {
   "cell_type": "code",
   "execution_count": 24,
   "metadata": {},
   "outputs": [
    {
     "name": "stdout",
     "output_type": "stream",
     "text": [
      "    Year  Mean Citation  Count of Records\n",
      "0      0       4.875000                32\n",
      "1   1936     157.250000                12\n",
      "2   1937      84.000000                15\n",
      "3   1938      49.500000                10\n",
      "4   1939      17.777778                18\n",
      "5   1940     396.800000                10\n",
      "6   1941     125.833333                12\n",
      "7   1942      22.583333                12\n",
      "8   1943      44.250000                 8\n",
      "9   1944      58.800000                 5\n",
      "10  1945      70.875000                 8\n",
      "11  1946      26.354839                31\n",
      "12  1947     127.400000                10\n",
      "13  1948      97.967742                31\n",
      "14  1949     323.920000                50\n",
      "15  1950      38.041667                24\n",
      "16  1951      38.593750                32\n",
      "17  1952       8.450000               100\n",
      "18  1953      14.641026               156\n",
      "19  1954      50.465000               200\n",
      "20  1955      19.133690               187\n",
      "21  1956      40.834459               296\n",
      "22  1957      35.552817               284\n",
      "23  1958      27.815981               413\n",
      "24  1959      78.515464               679\n",
      "25  1960      68.877514               547\n",
      "26  1961      39.375000               824\n",
      "27  1962      56.157063              1076\n",
      "28  1963      74.179596               941\n",
      "29  1964      45.163812               934\n",
      "..   ...            ...               ...\n",
      "60  1995      57.569399             42090\n",
      "61  1996      52.194756             45765\n",
      "62  1997      55.254820             50047\n",
      "63  1998      53.401134             57153\n",
      "64  1999      51.833205             61051\n",
      "65  2000      55.465133             69808\n",
      "66  2001      55.661674             74777\n",
      "67  2002      54.971971             85805\n",
      "68  2003      52.327844             96735\n",
      "69  2004      46.893573            113646\n",
      "70  2005      40.347574            138969\n",
      "71  2006      36.372387            156842\n",
      "72  2007      34.856124            167019\n",
      "73  2008      31.552281            175083\n",
      "74  2009      30.332801            195402\n",
      "75  2010      28.698397            205369\n",
      "76  2011      26.348395            222222\n",
      "77  2012      23.135322            238439\n",
      "78  2013      22.334744            247338\n",
      "79  2014      21.902388            259262\n",
      "80  2015      20.641051            253192\n",
      "81  2016      16.682519            244100\n",
      "82  2017      16.754170            260823\n",
      "83  2018      13.156266            303693\n",
      "84  2019       9.151890            319770\n",
      "85  2020       7.506207            286229\n",
      "86  2021       3.921156            317753\n",
      "87  2022       1.075393            233962\n",
      "88  2023       1.157895              1596\n",
      "89  2024       0.000000                 9\n",
      "\n",
      "[90 rows x 3 columns]\n"
     ]
    }
   ],
   "source": [
    "import pandas as pd\n",
    "\n",
    "# Load the Excel file into a pandas DataFrame\n",
    "file_path = 'ProcessedData/years_and_n_citation.csv'\n",
    "df = pd.read_csv(file_path)\n",
    "\n",
    "# Calculate the mean number of citations per year\n",
    "mean_citations_per_year = df.groupby('Year')['n_citation'].mean()\n",
    "\n",
    "# Calculate the count of records per year\n",
    "count_records_per_year = df.groupby('Year').size()\n",
    "\n",
    "# Create a DataFrame to store the results\n",
    "result_df = pd.DataFrame({\n",
    "    'Year': mean_citations_per_year.index,\n",
    "    'Mean Citation': mean_citations_per_year.values,\n",
    "    'Count of Records': count_records_per_year.values\n",
    "})\n",
    "\n",
    "# Export the outcome to Excel\n",
    "output_file = 'ProcessedData/citations_and_records_per_year.xlsx'\n",
    "result_df.to_excel(output_file, index=False)\n",
    "\n",
    "# Display the result DataFrame\n",
    "print(result_df)"
   ]
  },
  {
   "cell_type": "code",
   "execution_count": 12,
   "metadata": {},
   "outputs": [
    {
     "data": {
      "application/vnd.plotly.v1+json": {
       "config": {
        "plotlyServerURL": "https://plot.ly"
       },
       "data": [
        {
         "marker": {
          "color": "gray"
         },
         "name": "Number of papers",
         "type": "bar",
         "x": [
          0,
          1936,
          1937,
          1938,
          1939,
          1940,
          1941,
          1942,
          1943,
          1944,
          1945,
          1946,
          1947,
          1948,
          1949,
          1950,
          1951,
          1952,
          1953,
          1954,
          1955,
          1956,
          1957,
          1958,
          1959,
          1960,
          1961,
          1962,
          1963,
          1964,
          1965,
          1966,
          1967,
          1968,
          1969,
          1970,
          1971,
          1972,
          1973,
          1974,
          1975,
          1976,
          1977,
          1978,
          1979,
          1980,
          1981,
          1982,
          1983,
          1984,
          1985,
          1986,
          1987,
          1988,
          1989,
          1990,
          1991,
          1992,
          1993,
          1994,
          1995,
          1996,
          1997,
          1998,
          1999,
          2000,
          2001,
          2002,
          2003,
          2004,
          2005,
          2006,
          2007,
          2008,
          2009,
          2010,
          2011,
          2012,
          2013,
          2014,
          2015,
          2016,
          2017,
          2018,
          2019,
          2020,
          2021,
          2022,
          2023,
          2024
         ],
         "y": [
          32,
          12,
          15,
          10,
          18,
          10,
          12,
          12,
          8,
          5,
          8,
          31,
          10,
          31,
          50,
          24,
          32,
          100,
          156,
          200,
          187,
          296,
          284,
          413,
          679,
          547,
          824,
          1076,
          941,
          934,
          1070,
          1330,
          1620,
          2039,
          1880,
          1994,
          2603,
          3146,
          3847,
          4562,
          4766,
          5081,
          5373,
          5960,
          6112,
          6992,
          7462,
          8432,
          9454,
          10516,
          11879,
          13975,
          14894,
          18291,
          20420,
          23931,
          27286,
          30388,
          35120,
          38529,
          42090,
          45765,
          50047,
          57153,
          61051,
          69808,
          74777,
          85805,
          96735,
          113646,
          138969,
          156842,
          167019,
          175083,
          195402,
          205369,
          222222,
          238439,
          247338,
          259262,
          253192,
          244100,
          260823,
          303693,
          319770,
          286229,
          317753,
          233962,
          1596,
          9
         ]
        },
        {
         "line": {
          "color": "black"
         },
         "mode": "lines+markers",
         "name": "Mean Citation",
         "type": "scatter",
         "x": [
          0,
          1936,
          1937,
          1938,
          1939,
          1940,
          1941,
          1942,
          1943,
          1944,
          1945,
          1946,
          1947,
          1948,
          1949,
          1950,
          1951,
          1952,
          1953,
          1954,
          1955,
          1956,
          1957,
          1958,
          1959,
          1960,
          1961,
          1962,
          1963,
          1964,
          1965,
          1966,
          1967,
          1968,
          1969,
          1970,
          1971,
          1972,
          1973,
          1974,
          1975,
          1976,
          1977,
          1978,
          1979,
          1980,
          1981,
          1982,
          1983,
          1984,
          1985,
          1986,
          1987,
          1988,
          1989,
          1990,
          1991,
          1992,
          1993,
          1994,
          1995,
          1996,
          1997,
          1998,
          1999,
          2000,
          2001,
          2002,
          2003,
          2004,
          2005,
          2006,
          2007,
          2008,
          2009,
          2010,
          2011,
          2012,
          2013,
          2014,
          2015,
          2016,
          2017,
          2018,
          2019,
          2020,
          2021,
          2022,
          2023,
          2024
         ],
         "y": [
          4.875,
          157.25,
          84,
          49.5,
          17.77777777777778,
          396.8,
          125.8333333333333,
          22.58333333333333,
          44.25,
          58.8,
          70.875,
          26.35483870967742,
          127.4,
          97.96774193548387,
          323.92,
          38.04166666666666,
          38.59375,
          8.45,
          14.64102564102564,
          50.465,
          19.13368983957219,
          40.83445945945946,
          35.55281690140845,
          27.81598062953995,
          78.51546391752578,
          68.87751371115174,
          39.375,
          56.15706319702602,
          74.17959617428268,
          45.16381156316916,
          184.7224299065421,
          29.24887218045113,
          45.12716049382716,
          43.11181951937224,
          33.00212765957447,
          40.81043129388164,
          42.3146369573569,
          37.22314049586777,
          51.52560436703925,
          33.49079351161771,
          45.86130927402434,
          48.32493603621334,
          47.4571003163968,
          37.37802013422819,
          43.37843586387434,
          38.05577803203661,
          54.55481104261592,
          45.15322580645162,
          53.21123334038502,
          45.37257512362115,
          48.06456772455594,
          51.19928443649374,
          51.81999462870954,
          52.79880815701711,
          53.91332027424094,
          49.7706322343404,
          47.91915267902954,
          48.56104383309201,
          45.42605353075171,
          48.67274001401542,
          57.56939890710382,
          52.19475581776467,
          55.25482046875937,
          53.40113379875072,
          51.83320502530671,
          55.46513293605317,
          55.66167404415796,
          54.97197133034206,
          52.32784411019797,
          46.89357302500748,
          40.34757391936331,
          36.37238749824665,
          34.85612415353942,
          31.55228091819308,
          30.33280109722521,
          28.69839654475603,
          26.34839484839485,
          23.13532182235289,
          22.33474435792317,
          21.90238831760922,
          20.64105106006509,
          16.68251945923802,
          16.75417045275915,
          13.15626636109492,
          9.151890421240266,
          7.506206568866188,
          3.921155740465078,
          1.075392585120661,
          1.157894736842105,
          0
         ],
         "yaxis": "y2"
        }
       ],
       "layout": {
        "font": {
         "family": "Times New Roman",
         "size": 14
        },
        "legend": {
         "font": {
          "family": "Times New Roman",
          "size": 12
         },
         "x": 0.1,
         "y": 1.1
        },
        "showlegend": true,
        "template": {
         "data": {
          "bar": [
           {
            "error_x": {
             "color": "#2a3f5f"
            },
            "error_y": {
             "color": "#2a3f5f"
            },
            "marker": {
             "line": {
              "color": "#E5ECF6",
              "width": 0.5
             },
             "pattern": {
              "fillmode": "overlay",
              "size": 10,
              "solidity": 0.2
             }
            },
            "type": "bar"
           }
          ],
          "barpolar": [
           {
            "marker": {
             "line": {
              "color": "#E5ECF6",
              "width": 0.5
             },
             "pattern": {
              "fillmode": "overlay",
              "size": 10,
              "solidity": 0.2
             }
            },
            "type": "barpolar"
           }
          ],
          "carpet": [
           {
            "aaxis": {
             "endlinecolor": "#2a3f5f",
             "gridcolor": "white",
             "linecolor": "white",
             "minorgridcolor": "white",
             "startlinecolor": "#2a3f5f"
            },
            "baxis": {
             "endlinecolor": "#2a3f5f",
             "gridcolor": "white",
             "linecolor": "white",
             "minorgridcolor": "white",
             "startlinecolor": "#2a3f5f"
            },
            "type": "carpet"
           }
          ],
          "choropleth": [
           {
            "colorbar": {
             "outlinewidth": 0,
             "ticks": ""
            },
            "type": "choropleth"
           }
          ],
          "contour": [
           {
            "colorbar": {
             "outlinewidth": 0,
             "ticks": ""
            },
            "colorscale": [
             [
              0,
              "#0d0887"
             ],
             [
              0.1111111111111111,
              "#46039f"
             ],
             [
              0.2222222222222222,
              "#7201a8"
             ],
             [
              0.3333333333333333,
              "#9c179e"
             ],
             [
              0.4444444444444444,
              "#bd3786"
             ],
             [
              0.5555555555555556,
              "#d8576b"
             ],
             [
              0.6666666666666666,
              "#ed7953"
             ],
             [
              0.7777777777777778,
              "#fb9f3a"
             ],
             [
              0.8888888888888888,
              "#fdca26"
             ],
             [
              1,
              "#f0f921"
             ]
            ],
            "type": "contour"
           }
          ],
          "contourcarpet": [
           {
            "colorbar": {
             "outlinewidth": 0,
             "ticks": ""
            },
            "type": "contourcarpet"
           }
          ],
          "heatmap": [
           {
            "colorbar": {
             "outlinewidth": 0,
             "ticks": ""
            },
            "colorscale": [
             [
              0,
              "#0d0887"
             ],
             [
              0.1111111111111111,
              "#46039f"
             ],
             [
              0.2222222222222222,
              "#7201a8"
             ],
             [
              0.3333333333333333,
              "#9c179e"
             ],
             [
              0.4444444444444444,
              "#bd3786"
             ],
             [
              0.5555555555555556,
              "#d8576b"
             ],
             [
              0.6666666666666666,
              "#ed7953"
             ],
             [
              0.7777777777777778,
              "#fb9f3a"
             ],
             [
              0.8888888888888888,
              "#fdca26"
             ],
             [
              1,
              "#f0f921"
             ]
            ],
            "type": "heatmap"
           }
          ],
          "heatmapgl": [
           {
            "colorbar": {
             "outlinewidth": 0,
             "ticks": ""
            },
            "colorscale": [
             [
              0,
              "#0d0887"
             ],
             [
              0.1111111111111111,
              "#46039f"
             ],
             [
              0.2222222222222222,
              "#7201a8"
             ],
             [
              0.3333333333333333,
              "#9c179e"
             ],
             [
              0.4444444444444444,
              "#bd3786"
             ],
             [
              0.5555555555555556,
              "#d8576b"
             ],
             [
              0.6666666666666666,
              "#ed7953"
             ],
             [
              0.7777777777777778,
              "#fb9f3a"
             ],
             [
              0.8888888888888888,
              "#fdca26"
             ],
             [
              1,
              "#f0f921"
             ]
            ],
            "type": "heatmapgl"
           }
          ],
          "histogram": [
           {
            "marker": {
             "pattern": {
              "fillmode": "overlay",
              "size": 10,
              "solidity": 0.2
             }
            },
            "type": "histogram"
           }
          ],
          "histogram2d": [
           {
            "colorbar": {
             "outlinewidth": 0,
             "ticks": ""
            },
            "colorscale": [
             [
              0,
              "#0d0887"
             ],
             [
              0.1111111111111111,
              "#46039f"
             ],
             [
              0.2222222222222222,
              "#7201a8"
             ],
             [
              0.3333333333333333,
              "#9c179e"
             ],
             [
              0.4444444444444444,
              "#bd3786"
             ],
             [
              0.5555555555555556,
              "#d8576b"
             ],
             [
              0.6666666666666666,
              "#ed7953"
             ],
             [
              0.7777777777777778,
              "#fb9f3a"
             ],
             [
              0.8888888888888888,
              "#fdca26"
             ],
             [
              1,
              "#f0f921"
             ]
            ],
            "type": "histogram2d"
           }
          ],
          "histogram2dcontour": [
           {
            "colorbar": {
             "outlinewidth": 0,
             "ticks": ""
            },
            "colorscale": [
             [
              0,
              "#0d0887"
             ],
             [
              0.1111111111111111,
              "#46039f"
             ],
             [
              0.2222222222222222,
              "#7201a8"
             ],
             [
              0.3333333333333333,
              "#9c179e"
             ],
             [
              0.4444444444444444,
              "#bd3786"
             ],
             [
              0.5555555555555556,
              "#d8576b"
             ],
             [
              0.6666666666666666,
              "#ed7953"
             ],
             [
              0.7777777777777778,
              "#fb9f3a"
             ],
             [
              0.8888888888888888,
              "#fdca26"
             ],
             [
              1,
              "#f0f921"
             ]
            ],
            "type": "histogram2dcontour"
           }
          ],
          "mesh3d": [
           {
            "colorbar": {
             "outlinewidth": 0,
             "ticks": ""
            },
            "type": "mesh3d"
           }
          ],
          "parcoords": [
           {
            "line": {
             "colorbar": {
              "outlinewidth": 0,
              "ticks": ""
             }
            },
            "type": "parcoords"
           }
          ],
          "pie": [
           {
            "automargin": true,
            "type": "pie"
           }
          ],
          "scatter": [
           {
            "fillpattern": {
             "fillmode": "overlay",
             "size": 10,
             "solidity": 0.2
            },
            "type": "scatter"
           }
          ],
          "scatter3d": [
           {
            "line": {
             "colorbar": {
              "outlinewidth": 0,
              "ticks": ""
             }
            },
            "marker": {
             "colorbar": {
              "outlinewidth": 0,
              "ticks": ""
             }
            },
            "type": "scatter3d"
           }
          ],
          "scattercarpet": [
           {
            "marker": {
             "colorbar": {
              "outlinewidth": 0,
              "ticks": ""
             }
            },
            "type": "scattercarpet"
           }
          ],
          "scattergeo": [
           {
            "marker": {
             "colorbar": {
              "outlinewidth": 0,
              "ticks": ""
             }
            },
            "type": "scattergeo"
           }
          ],
          "scattergl": [
           {
            "marker": {
             "colorbar": {
              "outlinewidth": 0,
              "ticks": ""
             }
            },
            "type": "scattergl"
           }
          ],
          "scattermapbox": [
           {
            "marker": {
             "colorbar": {
              "outlinewidth": 0,
              "ticks": ""
             }
            },
            "type": "scattermapbox"
           }
          ],
          "scatterpolar": [
           {
            "marker": {
             "colorbar": {
              "outlinewidth": 0,
              "ticks": ""
             }
            },
            "type": "scatterpolar"
           }
          ],
          "scatterpolargl": [
           {
            "marker": {
             "colorbar": {
              "outlinewidth": 0,
              "ticks": ""
             }
            },
            "type": "scatterpolargl"
           }
          ],
          "scatterternary": [
           {
            "marker": {
             "colorbar": {
              "outlinewidth": 0,
              "ticks": ""
             }
            },
            "type": "scatterternary"
           }
          ],
          "surface": [
           {
            "colorbar": {
             "outlinewidth": 0,
             "ticks": ""
            },
            "colorscale": [
             [
              0,
              "#0d0887"
             ],
             [
              0.1111111111111111,
              "#46039f"
             ],
             [
              0.2222222222222222,
              "#7201a8"
             ],
             [
              0.3333333333333333,
              "#9c179e"
             ],
             [
              0.4444444444444444,
              "#bd3786"
             ],
             [
              0.5555555555555556,
              "#d8576b"
             ],
             [
              0.6666666666666666,
              "#ed7953"
             ],
             [
              0.7777777777777778,
              "#fb9f3a"
             ],
             [
              0.8888888888888888,
              "#fdca26"
             ],
             [
              1,
              "#f0f921"
             ]
            ],
            "type": "surface"
           }
          ],
          "table": [
           {
            "cells": {
             "fill": {
              "color": "#EBF0F8"
             },
             "line": {
              "color": "white"
             }
            },
            "header": {
             "fill": {
              "color": "#C8D4E3"
             },
             "line": {
              "color": "white"
             }
            },
            "type": "table"
           }
          ]
         },
         "layout": {
          "annotationdefaults": {
           "arrowcolor": "#2a3f5f",
           "arrowhead": 0,
           "arrowwidth": 1
          },
          "autotypenumbers": "strict",
          "coloraxis": {
           "colorbar": {
            "outlinewidth": 0,
            "ticks": ""
           }
          },
          "colorscale": {
           "diverging": [
            [
             0,
             "#8e0152"
            ],
            [
             0.1,
             "#c51b7d"
            ],
            [
             0.2,
             "#de77ae"
            ],
            [
             0.3,
             "#f1b6da"
            ],
            [
             0.4,
             "#fde0ef"
            ],
            [
             0.5,
             "#f7f7f7"
            ],
            [
             0.6,
             "#e6f5d0"
            ],
            [
             0.7,
             "#b8e186"
            ],
            [
             0.8,
             "#7fbc41"
            ],
            [
             0.9,
             "#4d9221"
            ],
            [
             1,
             "#276419"
            ]
           ],
           "sequential": [
            [
             0,
             "#0d0887"
            ],
            [
             0.1111111111111111,
             "#46039f"
            ],
            [
             0.2222222222222222,
             "#7201a8"
            ],
            [
             0.3333333333333333,
             "#9c179e"
            ],
            [
             0.4444444444444444,
             "#bd3786"
            ],
            [
             0.5555555555555556,
             "#d8576b"
            ],
            [
             0.6666666666666666,
             "#ed7953"
            ],
            [
             0.7777777777777778,
             "#fb9f3a"
            ],
            [
             0.8888888888888888,
             "#fdca26"
            ],
            [
             1,
             "#f0f921"
            ]
           ],
           "sequentialminus": [
            [
             0,
             "#0d0887"
            ],
            [
             0.1111111111111111,
             "#46039f"
            ],
            [
             0.2222222222222222,
             "#7201a8"
            ],
            [
             0.3333333333333333,
             "#9c179e"
            ],
            [
             0.4444444444444444,
             "#bd3786"
            ],
            [
             0.5555555555555556,
             "#d8576b"
            ],
            [
             0.6666666666666666,
             "#ed7953"
            ],
            [
             0.7777777777777778,
             "#fb9f3a"
            ],
            [
             0.8888888888888888,
             "#fdca26"
            ],
            [
             1,
             "#f0f921"
            ]
           ]
          },
          "colorway": [
           "#636efa",
           "#EF553B",
           "#00cc96",
           "#ab63fa",
           "#FFA15A",
           "#19d3f3",
           "#FF6692",
           "#B6E880",
           "#FF97FF",
           "#FECB52"
          ],
          "font": {
           "color": "#2a3f5f"
          },
          "geo": {
           "bgcolor": "white",
           "lakecolor": "white",
           "landcolor": "#E5ECF6",
           "showlakes": true,
           "showland": true,
           "subunitcolor": "white"
          },
          "hoverlabel": {
           "align": "left"
          },
          "hovermode": "closest",
          "mapbox": {
           "style": "light"
          },
          "paper_bgcolor": "white",
          "plot_bgcolor": "#E5ECF6",
          "polar": {
           "angularaxis": {
            "gridcolor": "white",
            "linecolor": "white",
            "ticks": ""
           },
           "bgcolor": "#E5ECF6",
           "radialaxis": {
            "gridcolor": "white",
            "linecolor": "white",
            "ticks": ""
           }
          },
          "scene": {
           "xaxis": {
            "backgroundcolor": "#E5ECF6",
            "gridcolor": "white",
            "gridwidth": 2,
            "linecolor": "white",
            "showbackground": true,
            "ticks": "",
            "zerolinecolor": "white"
           },
           "yaxis": {
            "backgroundcolor": "#E5ECF6",
            "gridcolor": "white",
            "gridwidth": 2,
            "linecolor": "white",
            "showbackground": true,
            "ticks": "",
            "zerolinecolor": "white"
           },
           "zaxis": {
            "backgroundcolor": "#E5ECF6",
            "gridcolor": "white",
            "gridwidth": 2,
            "linecolor": "white",
            "showbackground": true,
            "ticks": "",
            "zerolinecolor": "white"
           }
          },
          "shapedefaults": {
           "line": {
            "color": "#2a3f5f"
           }
          },
          "ternary": {
           "aaxis": {
            "gridcolor": "white",
            "linecolor": "white",
            "ticks": ""
           },
           "baxis": {
            "gridcolor": "white",
            "linecolor": "white",
            "ticks": ""
           },
           "bgcolor": "#E5ECF6",
           "caxis": {
            "gridcolor": "white",
            "linecolor": "white",
            "ticks": ""
           }
          },
          "title": {
           "x": 0.05
          },
          "xaxis": {
           "automargin": true,
           "gridcolor": "white",
           "linecolor": "white",
           "ticks": "",
           "title": {
            "standoff": 15
           },
           "zerolinecolor": "white",
           "zerolinewidth": 2
          },
          "yaxis": {
           "automargin": true,
           "gridcolor": "white",
           "linecolor": "white",
           "ticks": "",
           "title": {
            "standoff": 15
           },
           "zerolinecolor": "white",
           "zerolinewidth": 2
          }
         }
        },
        "title": {
         "font": {
          "family": "Times New Roman",
          "size": 16
         }
        },
        "xaxis": {
         "range": [
          1935,
          2024
         ],
         "tickfont": {
          "family": "Times New Roman",
          "size": 12
         },
         "title": {
          "text": "Year"
         }
        },
        "yaxis": {
         "color": "gray",
         "showgrid": false,
         "tickfont": {
          "family": "Times New Roman",
          "size": 12
         },
         "title": {
          "text": "Number of Papers"
         }
        },
        "yaxis2": {
         "color": "black",
         "overlaying": "y",
         "showgrid": false,
         "side": "right",
         "tickfont": {
          "family": "Times New Roman",
          "size": 12
         },
         "title": {
          "text": "Mean Citation"
         }
        }
       }
      },
      "text/html": [
       "<div>                            <div id=\"d37102b1-2f1c-47ae-862d-c03f79a16a43\" class=\"plotly-graph-div\" style=\"height:525px; width:100%;\"></div>            <script type=\"text/javascript\">                require([\"plotly\"], function(Plotly) {                    window.PLOTLYENV=window.PLOTLYENV || {};                                    if (document.getElementById(\"d37102b1-2f1c-47ae-862d-c03f79a16a43\")) {                    Plotly.newPlot(                        \"d37102b1-2f1c-47ae-862d-c03f79a16a43\",                        [{\"marker\":{\"color\":\"gray\"},\"name\":\"Number of papers\",\"x\":[0,1936,1937,1938,1939,1940,1941,1942,1943,1944,1945,1946,1947,1948,1949,1950,1951,1952,1953,1954,1955,1956,1957,1958,1959,1960,1961,1962,1963,1964,1965,1966,1967,1968,1969,1970,1971,1972,1973,1974,1975,1976,1977,1978,1979,1980,1981,1982,1983,1984,1985,1986,1987,1988,1989,1990,1991,1992,1993,1994,1995,1996,1997,1998,1999,2000,2001,2002,2003,2004,2005,2006,2007,2008,2009,2010,2011,2012,2013,2014,2015,2016,2017,2018,2019,2020,2021,2022,2023,2024],\"y\":[32,12,15,10,18,10,12,12,8,5,8,31,10,31,50,24,32,100,156,200,187,296,284,413,679,547,824,1076,941,934,1070,1330,1620,2039,1880,1994,2603,3146,3847,4562,4766,5081,5373,5960,6112,6992,7462,8432,9454,10516,11879,13975,14894,18291,20420,23931,27286,30388,35120,38529,42090,45765,50047,57153,61051,69808,74777,85805,96735,113646,138969,156842,167019,175083,195402,205369,222222,238439,247338,259262,253192,244100,260823,303693,319770,286229,317753,233962,1596,9],\"type\":\"bar\"},{\"line\":{\"color\":\"black\"},\"mode\":\"lines+markers\",\"name\":\"Mean Citation\",\"x\":[0,1936,1937,1938,1939,1940,1941,1942,1943,1944,1945,1946,1947,1948,1949,1950,1951,1952,1953,1954,1955,1956,1957,1958,1959,1960,1961,1962,1963,1964,1965,1966,1967,1968,1969,1970,1971,1972,1973,1974,1975,1976,1977,1978,1979,1980,1981,1982,1983,1984,1985,1986,1987,1988,1989,1990,1991,1992,1993,1994,1995,1996,1997,1998,1999,2000,2001,2002,2003,2004,2005,2006,2007,2008,2009,2010,2011,2012,2013,2014,2015,2016,2017,2018,2019,2020,2021,2022,2023,2024],\"y\":[4.875,157.25,84.0,49.5,17.77777777777778,396.8,125.8333333333333,22.58333333333333,44.25,58.8,70.875,26.35483870967742,127.4,97.96774193548387,323.92,38.04166666666666,38.59375,8.45,14.64102564102564,50.465,19.13368983957219,40.83445945945946,35.55281690140845,27.81598062953995,78.51546391752578,68.87751371115174,39.375,56.15706319702602,74.17959617428268,45.16381156316916,184.7224299065421,29.24887218045113,45.12716049382716,43.11181951937224,33.00212765957447,40.81043129388164,42.3146369573569,37.22314049586777,51.52560436703925,33.49079351161771,45.86130927402434,48.32493603621334,47.4571003163968,37.37802013422819,43.37843586387434,38.05577803203661,54.55481104261592,45.15322580645162,53.21123334038502,45.37257512362115,48.06456772455594,51.19928443649374,51.81999462870954,52.79880815701711,53.91332027424094,49.7706322343404,47.91915267902954,48.56104383309201,45.42605353075171,48.67274001401542,57.56939890710382,52.19475581776467,55.25482046875937,53.40113379875072,51.83320502530671,55.46513293605317,55.66167404415796,54.97197133034206,52.32784411019797,46.89357302500748,40.34757391936331,36.37238749824665,34.85612415353942,31.55228091819308,30.33280109722521,28.69839654475603,26.34839484839485,23.13532182235289,22.33474435792317,21.90238831760922,20.64105106006509,16.68251945923802,16.75417045275915,13.15626636109492,9.151890421240266,7.506206568866188,3.921155740465078,1.075392585120661,1.157894736842105,0.0],\"yaxis\":\"y2\",\"type\":\"scatter\"}],                        {\"template\":{\"data\":{\"histogram2dcontour\":[{\"type\":\"histogram2dcontour\",\"colorbar\":{\"outlinewidth\":0,\"ticks\":\"\"},\"colorscale\":[[0.0,\"#0d0887\"],[0.1111111111111111,\"#46039f\"],[0.2222222222222222,\"#7201a8\"],[0.3333333333333333,\"#9c179e\"],[0.4444444444444444,\"#bd3786\"],[0.5555555555555556,\"#d8576b\"],[0.6666666666666666,\"#ed7953\"],[0.7777777777777778,\"#fb9f3a\"],[0.8888888888888888,\"#fdca26\"],[1.0,\"#f0f921\"]]}],\"choropleth\":[{\"type\":\"choropleth\",\"colorbar\":{\"outlinewidth\":0,\"ticks\":\"\"}}],\"histogram2d\":[{\"type\":\"histogram2d\",\"colorbar\":{\"outlinewidth\":0,\"ticks\":\"\"},\"colorscale\":[[0.0,\"#0d0887\"],[0.1111111111111111,\"#46039f\"],[0.2222222222222222,\"#7201a8\"],[0.3333333333333333,\"#9c179e\"],[0.4444444444444444,\"#bd3786\"],[0.5555555555555556,\"#d8576b\"],[0.6666666666666666,\"#ed7953\"],[0.7777777777777778,\"#fb9f3a\"],[0.8888888888888888,\"#fdca26\"],[1.0,\"#f0f921\"]]}],\"heatmap\":[{\"type\":\"heatmap\",\"colorbar\":{\"outlinewidth\":0,\"ticks\":\"\"},\"colorscale\":[[0.0,\"#0d0887\"],[0.1111111111111111,\"#46039f\"],[0.2222222222222222,\"#7201a8\"],[0.3333333333333333,\"#9c179e\"],[0.4444444444444444,\"#bd3786\"],[0.5555555555555556,\"#d8576b\"],[0.6666666666666666,\"#ed7953\"],[0.7777777777777778,\"#fb9f3a\"],[0.8888888888888888,\"#fdca26\"],[1.0,\"#f0f921\"]]}],\"heatmapgl\":[{\"type\":\"heatmapgl\",\"colorbar\":{\"outlinewidth\":0,\"ticks\":\"\"},\"colorscale\":[[0.0,\"#0d0887\"],[0.1111111111111111,\"#46039f\"],[0.2222222222222222,\"#7201a8\"],[0.3333333333333333,\"#9c179e\"],[0.4444444444444444,\"#bd3786\"],[0.5555555555555556,\"#d8576b\"],[0.6666666666666666,\"#ed7953\"],[0.7777777777777778,\"#fb9f3a\"],[0.8888888888888888,\"#fdca26\"],[1.0,\"#f0f921\"]]}],\"contourcarpet\":[{\"type\":\"contourcarpet\",\"colorbar\":{\"outlinewidth\":0,\"ticks\":\"\"}}],\"contour\":[{\"type\":\"contour\",\"colorbar\":{\"outlinewidth\":0,\"ticks\":\"\"},\"colorscale\":[[0.0,\"#0d0887\"],[0.1111111111111111,\"#46039f\"],[0.2222222222222222,\"#7201a8\"],[0.3333333333333333,\"#9c179e\"],[0.4444444444444444,\"#bd3786\"],[0.5555555555555556,\"#d8576b\"],[0.6666666666666666,\"#ed7953\"],[0.7777777777777778,\"#fb9f3a\"],[0.8888888888888888,\"#fdca26\"],[1.0,\"#f0f921\"]]}],\"surface\":[{\"type\":\"surface\",\"colorbar\":{\"outlinewidth\":0,\"ticks\":\"\"},\"colorscale\":[[0.0,\"#0d0887\"],[0.1111111111111111,\"#46039f\"],[0.2222222222222222,\"#7201a8\"],[0.3333333333333333,\"#9c179e\"],[0.4444444444444444,\"#bd3786\"],[0.5555555555555556,\"#d8576b\"],[0.6666666666666666,\"#ed7953\"],[0.7777777777777778,\"#fb9f3a\"],[0.8888888888888888,\"#fdca26\"],[1.0,\"#f0f921\"]]}],\"mesh3d\":[{\"type\":\"mesh3d\",\"colorbar\":{\"outlinewidth\":0,\"ticks\":\"\"}}],\"scatter\":[{\"fillpattern\":{\"fillmode\":\"overlay\",\"size\":10,\"solidity\":0.2},\"type\":\"scatter\"}],\"parcoords\":[{\"type\":\"parcoords\",\"line\":{\"colorbar\":{\"outlinewidth\":0,\"ticks\":\"\"}}}],\"scatterpolargl\":[{\"type\":\"scatterpolargl\",\"marker\":{\"colorbar\":{\"outlinewidth\":0,\"ticks\":\"\"}}}],\"bar\":[{\"error_x\":{\"color\":\"#2a3f5f\"},\"error_y\":{\"color\":\"#2a3f5f\"},\"marker\":{\"line\":{\"color\":\"#E5ECF6\",\"width\":0.5},\"pattern\":{\"fillmode\":\"overlay\",\"size\":10,\"solidity\":0.2}},\"type\":\"bar\"}],\"scattergeo\":[{\"type\":\"scattergeo\",\"marker\":{\"colorbar\":{\"outlinewidth\":0,\"ticks\":\"\"}}}],\"scatterpolar\":[{\"type\":\"scatterpolar\",\"marker\":{\"colorbar\":{\"outlinewidth\":0,\"ticks\":\"\"}}}],\"histogram\":[{\"marker\":{\"pattern\":{\"fillmode\":\"overlay\",\"size\":10,\"solidity\":0.2}},\"type\":\"histogram\"}],\"scattergl\":[{\"type\":\"scattergl\",\"marker\":{\"colorbar\":{\"outlinewidth\":0,\"ticks\":\"\"}}}],\"scatter3d\":[{\"type\":\"scatter3d\",\"line\":{\"colorbar\":{\"outlinewidth\":0,\"ticks\":\"\"}},\"marker\":{\"colorbar\":{\"outlinewidth\":0,\"ticks\":\"\"}}}],\"scattermapbox\":[{\"type\":\"scattermapbox\",\"marker\":{\"colorbar\":{\"outlinewidth\":0,\"ticks\":\"\"}}}],\"scatterternary\":[{\"type\":\"scatterternary\",\"marker\":{\"colorbar\":{\"outlinewidth\":0,\"ticks\":\"\"}}}],\"scattercarpet\":[{\"type\":\"scattercarpet\",\"marker\":{\"colorbar\":{\"outlinewidth\":0,\"ticks\":\"\"}}}],\"carpet\":[{\"aaxis\":{\"endlinecolor\":\"#2a3f5f\",\"gridcolor\":\"white\",\"linecolor\":\"white\",\"minorgridcolor\":\"white\",\"startlinecolor\":\"#2a3f5f\"},\"baxis\":{\"endlinecolor\":\"#2a3f5f\",\"gridcolor\":\"white\",\"linecolor\":\"white\",\"minorgridcolor\":\"white\",\"startlinecolor\":\"#2a3f5f\"},\"type\":\"carpet\"}],\"table\":[{\"cells\":{\"fill\":{\"color\":\"#EBF0F8\"},\"line\":{\"color\":\"white\"}},\"header\":{\"fill\":{\"color\":\"#C8D4E3\"},\"line\":{\"color\":\"white\"}},\"type\":\"table\"}],\"barpolar\":[{\"marker\":{\"line\":{\"color\":\"#E5ECF6\",\"width\":0.5},\"pattern\":{\"fillmode\":\"overlay\",\"size\":10,\"solidity\":0.2}},\"type\":\"barpolar\"}],\"pie\":[{\"automargin\":true,\"type\":\"pie\"}]},\"layout\":{\"autotypenumbers\":\"strict\",\"colorway\":[\"#636efa\",\"#EF553B\",\"#00cc96\",\"#ab63fa\",\"#FFA15A\",\"#19d3f3\",\"#FF6692\",\"#B6E880\",\"#FF97FF\",\"#FECB52\"],\"font\":{\"color\":\"#2a3f5f\"},\"hovermode\":\"closest\",\"hoverlabel\":{\"align\":\"left\"},\"paper_bgcolor\":\"white\",\"plot_bgcolor\":\"#E5ECF6\",\"polar\":{\"bgcolor\":\"#E5ECF6\",\"angularaxis\":{\"gridcolor\":\"white\",\"linecolor\":\"white\",\"ticks\":\"\"},\"radialaxis\":{\"gridcolor\":\"white\",\"linecolor\":\"white\",\"ticks\":\"\"}},\"ternary\":{\"bgcolor\":\"#E5ECF6\",\"aaxis\":{\"gridcolor\":\"white\",\"linecolor\":\"white\",\"ticks\":\"\"},\"baxis\":{\"gridcolor\":\"white\",\"linecolor\":\"white\",\"ticks\":\"\"},\"caxis\":{\"gridcolor\":\"white\",\"linecolor\":\"white\",\"ticks\":\"\"}},\"coloraxis\":{\"colorbar\":{\"outlinewidth\":0,\"ticks\":\"\"}},\"colorscale\":{\"sequential\":[[0.0,\"#0d0887\"],[0.1111111111111111,\"#46039f\"],[0.2222222222222222,\"#7201a8\"],[0.3333333333333333,\"#9c179e\"],[0.4444444444444444,\"#bd3786\"],[0.5555555555555556,\"#d8576b\"],[0.6666666666666666,\"#ed7953\"],[0.7777777777777778,\"#fb9f3a\"],[0.8888888888888888,\"#fdca26\"],[1.0,\"#f0f921\"]],\"sequentialminus\":[[0.0,\"#0d0887\"],[0.1111111111111111,\"#46039f\"],[0.2222222222222222,\"#7201a8\"],[0.3333333333333333,\"#9c179e\"],[0.4444444444444444,\"#bd3786\"],[0.5555555555555556,\"#d8576b\"],[0.6666666666666666,\"#ed7953\"],[0.7777777777777778,\"#fb9f3a\"],[0.8888888888888888,\"#fdca26\"],[1.0,\"#f0f921\"]],\"diverging\":[[0,\"#8e0152\"],[0.1,\"#c51b7d\"],[0.2,\"#de77ae\"],[0.3,\"#f1b6da\"],[0.4,\"#fde0ef\"],[0.5,\"#f7f7f7\"],[0.6,\"#e6f5d0\"],[0.7,\"#b8e186\"],[0.8,\"#7fbc41\"],[0.9,\"#4d9221\"],[1,\"#276419\"]]},\"xaxis\":{\"gridcolor\":\"white\",\"linecolor\":\"white\",\"ticks\":\"\",\"title\":{\"standoff\":15},\"zerolinecolor\":\"white\",\"automargin\":true,\"zerolinewidth\":2},\"yaxis\":{\"gridcolor\":\"white\",\"linecolor\":\"white\",\"ticks\":\"\",\"title\":{\"standoff\":15},\"zerolinecolor\":\"white\",\"automargin\":true,\"zerolinewidth\":2},\"scene\":{\"xaxis\":{\"backgroundcolor\":\"#E5ECF6\",\"gridcolor\":\"white\",\"linecolor\":\"white\",\"showbackground\":true,\"ticks\":\"\",\"zerolinecolor\":\"white\",\"gridwidth\":2},\"yaxis\":{\"backgroundcolor\":\"#E5ECF6\",\"gridcolor\":\"white\",\"linecolor\":\"white\",\"showbackground\":true,\"ticks\":\"\",\"zerolinecolor\":\"white\",\"gridwidth\":2},\"zaxis\":{\"backgroundcolor\":\"#E5ECF6\",\"gridcolor\":\"white\",\"linecolor\":\"white\",\"showbackground\":true,\"ticks\":\"\",\"zerolinecolor\":\"white\",\"gridwidth\":2}},\"shapedefaults\":{\"line\":{\"color\":\"#2a3f5f\"}},\"annotationdefaults\":{\"arrowcolor\":\"#2a3f5f\",\"arrowhead\":0,\"arrowwidth\":1},\"geo\":{\"bgcolor\":\"white\",\"landcolor\":\"#E5ECF6\",\"subunitcolor\":\"white\",\"showland\":true,\"showlakes\":true,\"lakecolor\":\"white\"},\"title\":{\"x\":0.05},\"mapbox\":{\"style\":\"light\"}}},\"xaxis\":{\"tickfont\":{\"family\":\"Times New Roman\",\"size\":12},\"title\":{\"text\":\"Year\"},\"range\":[1935,2024]},\"yaxis\":{\"tickfont\":{\"family\":\"Times New Roman\",\"size\":12},\"title\":{\"text\":\"Number of Papers\"},\"color\":\"gray\",\"showgrid\":false},\"yaxis2\":{\"title\":{\"text\":\"Mean Citation\"},\"overlaying\":\"y\",\"side\":\"right\",\"color\":\"black\",\"showgrid\":false,\"tickfont\":{\"family\":\"Times New Roman\",\"size\":12}},\"legend\":{\"font\":{\"family\":\"Times New Roman\",\"size\":12},\"x\":0.1,\"y\":1.1},\"font\":{\"family\":\"Times New Roman\",\"size\":14},\"title\":{\"font\":{\"family\":\"Times New Roman\",\"size\":16}},\"showlegend\":true},                        {\"responsive\": true}                    ).then(function(){\n",
       "                            \n",
       "var gd = document.getElementById('d37102b1-2f1c-47ae-862d-c03f79a16a43');\n",
       "var x = new MutationObserver(function (mutations, observer) {{\n",
       "        var display = window.getComputedStyle(gd).display;\n",
       "        if (!display || display === 'none') {{\n",
       "            console.log([gd, 'removed!']);\n",
       "            Plotly.purge(gd);\n",
       "            observer.disconnect();\n",
       "        }}\n",
       "}});\n",
       "\n",
       "// Listen for the removal of the full notebook cells\n",
       "var notebookContainer = gd.closest('#notebook-container');\n",
       "if (notebookContainer) {{\n",
       "    x.observe(notebookContainer, {childList: true});\n",
       "}}\n",
       "\n",
       "// Listen for the clearing of the current output cell\n",
       "var outputEl = gd.closest('.output');\n",
       "if (outputEl) {{\n",
       "    x.observe(outputEl, {childList: true});\n",
       "}}\n",
       "\n",
       "                        })                };                });            </script>        </div>"
      ]
     },
     "metadata": {},
     "output_type": "display_data"
    }
   ],
   "source": [
    "import pandas as pd\n",
    "import plotly.graph_objects as go\n",
    "\n",
    "# Load the data from the Excel file\n",
    "file_path = 'ProcessedData/citations_and_records_per_year.xlsx'\n",
    "df = pd.read_excel(file_path)\n",
    "\n",
    "# Create a figure\n",
    "fig = go.Figure()\n",
    "\n",
    "# Add a bar trace for count of records\n",
    "fig.add_trace(go.Bar(x=df['Year'], y=df['Count of Records'], name='Number of papers', marker_color='gray'))\n",
    "\n",
    "# Add a scatter trace for mean citation count\n",
    "fig.add_trace(go.Scatter(x=df['Year'], y=df['Mean Citation'], mode='lines+markers', name='Mean Citation', yaxis='y2', line=dict(color='black')))\n",
    "\n",
    "# Update the layout\n",
    "fig.update_layout(\n",
    "    #title='Mean Citation and Number of Papers per Year',\n",
    "    xaxis=dict(title='Year', range=[1935, df['Year'].max()], tickfont=dict(family='Times New Roman', size=12)),\n",
    "    yaxis=dict(title='Number of Papers', color='gray', showgrid=False, tickfont=dict(family='Times New Roman', size=12)),\n",
    "    yaxis2=dict(title='Mean Citation', overlaying='y', side='right', color='black', showgrid=False, tickfont=dict(family='Times New Roman', size=12)),\n",
    "    showlegend=True,\n",
    "    legend=dict(x=0.1, y=1.1, font=dict(family='Times New Roman', size=12)),\n",
    "    font=dict(family='Times New Roman', size=14),\n",
    "    title_font=dict(family='Times New Roman', size=16)\n",
    ")\n",
    "\n",
    "\n",
    "\n",
    "# Show the plot\n",
    "fig.show()\n",
    "\n",
    "\n",
    "\n",
    "# Save the plot as an image file with high resolution\n",
    "fig.write_image('Graphs/meancitationandhistogram.png', format='png', scale=3)  # scale=3 for higher resolution\n"
   ]
  },
  {
   "cell_type": "markdown",
   "metadata": {},
   "source": [
    "In this research endeavor, our primary objective is to utilize topic modeling techniques to conduct a thorough analysis of academic papers. The focal point of our analysis will be the abstracts of these papers, as they succinctly summarize the research findings and methodologies. To facilitate a focused and manageable study, we have curated a subset of papers that were published in the year 2010. This selection will allow us to explore the prevailing research themes and methodologies during this period, providing valuable insights into the academic discourse.\n",
    "\n"
   ]
  },
  {
   "cell_type": "markdown",
   "metadata": {},
   "source": [
    "To perform the analysis in this notebook, two variables for each paper are needed: the number of citations and the abstract. The abstract will be used as input for topic modeling, while the number of citations will be used to assess the impact of the identified topics."
   ]
  },
  {
   "cell_type": "code",
   "execution_count": 8,
   "metadata": {},
   "outputs": [
    {
     "name": "stdout",
     "output_type": "stream",
     "text": [
      "Exported 205369 records with 'year' equal to 2010 to ProcessedData/year_2010_records.csv\n",
      "Wall time: 5min 13s\n"
     ]
    }
   ],
   "source": [
    "%%time\n",
    "import json\n",
    "import pandas as pd\n",
    "\n",
    "max_lines = 1000000000000000\n",
    "\n",
    "file_path = \"Data/dblp_v14.json\"\n",
    "output_csv_file = \"ProcessedData/year_2010_records.csv\"  # Specify the CSV file name\n",
    "\n",
    "# Initialize lists to store the \"year,\" \"n_citation,\" and \"abstract\" values\n",
    "years = []\n",
    "n_citations = []\n",
    "abstracts = []\n",
    "\n",
    "# Open the JSON file for reading\n",
    "with open(file_path, 'r', encoding='utf-8') as json_file:\n",
    "    # Iterate through the JSON file line by line\n",
    "    for line_number, line in enumerate(json_file, start=1):\n",
    "        try:\n",
    "            if len(line) > 10:\n",
    "                data = json.loads(line.strip().strip(',]'))\n",
    "\n",
    "                year = data.get(\"year\", None)\n",
    "                if year == 2010:  # Check if the \"year\" is equal to 2010\n",
    "                    years.append(year)\n",
    "                    n_citations.append(data.get(\"n_citation\", None))\n",
    "                    abstracts.append(data.get(\"abstract\", None))\n",
    "        except json.JSONDecodeError as e:\n",
    "            print(f\"Error at line {line_number}: {e}\")\n",
    "\n",
    "        if line_number >= max_lines:\n",
    "            break\n",
    "\n",
    "# Create a DataFrame from the filtered data\n",
    "df = pd.DataFrame({\"Year\": years, \"n_citation\": n_citations, \"Abstract\": abstracts})\n",
    "\n",
    "# Export the DataFrame to a CSV file\n",
    "df.to_csv(output_csv_file, index=False)\n",
    "\n",
    "print(f\"Exported {len(years)} records with 'year' equal to 2010 to {output_csv_file}\")\n"
   ]
  },
  {
   "cell_type": "markdown",
   "metadata": {},
   "source": [
    "However, it appears that certain papers do not have an abstract. These papers are fitlered out. \n",
    "In addition, it appears that even by considering only the papers published in 2010, the large number of papers and their size pose a challenge for the next step of topic modeling. To address this, a sampled subset of the papers has been created. Both the sampled subset and the complete dataset are saved in both CSV and JSON formats for further analysis and convenience.\n"
   ]
  },
  {
   "cell_type": "code",
   "execution_count": null,
   "metadata": {},
   "outputs": [],
   "source": []
  },
  {
   "cell_type": "code",
   "execution_count": 9,
   "metadata": {},
   "outputs": [
    {
     "name": "stdout",
     "output_type": "stream",
     "text": [
      "Exported 176844 records with 'year' equal to 2010 and non-empty 'abstract' to ProcessedData/year_2010_records_with_non_empty_abstract.csv\n",
      "Exported 176844 records with 'year' equal to 2010 and non-empty 'abstract' to ProcessedData/year_2010_records_with_non_empty_abstract.json\n",
      "Exported 8842 sampled records to ProcessedData/sampled_year_2010_records.json\n",
      "Wall time: 5min 17s\n"
     ]
    }
   ],
   "source": [
    "%%time\n",
    "import json\n",
    "import pandas as pd\n",
    "\n",
    "max_lines = 100000000000000000\n",
    "\n",
    "file_path = \"Data/dblp_v14.json\"\n",
    "output_csv_file = \"ProcessedData/year_2010_records_with_non_empty_abstract.csv\"  # Specify the CSV file name\n",
    "output_json_file = \"ProcessedData/year_2010_records_with_non_empty_abstract.json\"  # Specify the JSON file name\n",
    "output_sampled_json_file = \"ProcessedData/sampled_year_2010_records.json\"  # Specify the sampled JSON file name\n",
    "\n",
    "# Initialize lists to store the \"year,\" \"n_citation,\" and \"abstract\" values\n",
    "years = []\n",
    "n_citations = []\n",
    "abstracts = []\n",
    "\n",
    "# Open the JSON file for reading\n",
    "with open(file_path, 'r', encoding='utf-8') as json_file:\n",
    "    # Iterate through the JSON file line by line\n",
    "    for line_number, line in enumerate(json_file, start=1):\n",
    "        try:\n",
    "            if len(line) > 10:\n",
    "                data = json.loads(line.strip().strip(',]'))\n",
    "\n",
    "                year = data.get(\"year\", None)\n",
    "                abstract = data.get(\"abstract\", None)\n",
    "                \n",
    "                if year == 2010 and abstract:  # Check if \"year\" is 2010 and \"abstract\" is not empty\n",
    "                    years.append(year)\n",
    "                    n_citations.append(data.get(\"n_citation\", None))\n",
    "                    abstracts.append(abstract)\n",
    "        except json.JSONDecodeError as e:\n",
    "            print(f\"Error at line {line_number}: {e}\")\n",
    "\n",
    "        if line_number >= max_lines:\n",
    "            break\n",
    "\n",
    "# Create the original DataFrame from the filtered data\n",
    "df = pd.DataFrame({\"Year\": years, \"n_citation\": n_citations, \"Abstract\": abstracts})\n",
    "\n",
    "# Export the original DataFrame to a CSV file\n",
    "df.to_csv(output_csv_file, index=False)\n",
    "\n",
    "# Save the original DataFrame as a JSON file\n",
    "df.to_json(output_json_file, orient='records', lines=True)\n",
    "\n",
    "print(f\"Exported {len(years)} records with 'year' equal to 2010 and non-empty 'abstract' to {output_csv_file}\")\n",
    "print(f\"Exported {len(years)} records with 'year' equal to 2010 and non-empty 'abstract' to {output_json_file}\")\n",
    "\n",
    "# Perform random sampling of 5% of the DataFrame\n",
    "sampled_df = df.sample(frac=0.05, random_state=42)  # 5% sampling rate with a random seed (42)\n",
    "\n",
    "# Save the sampled DataFrame as a JSON file\n",
    "sampled_df.to_json(output_sampled_json_file, orient='records', lines=True)\n",
    "\n",
    "print(f\"Exported {len(sampled_df)} sampled records to {output_sampled_json_file}\")\n",
    "\n"
   ]
  }
 ],
 "metadata": {
  "kernelspec": {
   "display_name": "Python 3",
   "language": "python",
   "name": "python3"
  }
 },
 "nbformat": 4,
 "nbformat_minor": 2
}
